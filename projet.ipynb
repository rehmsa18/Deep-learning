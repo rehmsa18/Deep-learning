{
  "cells": [
    {
      "cell_type": "markdown",
      "metadata": {
        "id": "847GP8BjW6Ec"
      },
      "source": [
        "#**Install**"
      ]
    },
    {
      "cell_type": "code",
      "execution_count": null,
      "metadata": {
        "colab": {
          "base_uri": "https://localhost:8080/"
        },
        "id": "NXReID_EW9kv",
        "outputId": "c16fb15f-2c06-439f-a82f-8bcea0d9f323"
      },
      "outputs": [
        {
          "name": "stdout",
          "output_type": "stream",
          "text": [
            "Requirement already satisfied: spacy in /usr/local/lib/python3.7/dist-packages (2.2.4)\n",
            "Requirement already satisfied: cymem<2.1.0,>=2.0.2 in /usr/local/lib/python3.7/dist-packages (from spacy) (2.0.6)\n",
            "Requirement already satisfied: preshed<3.1.0,>=3.0.2 in /usr/local/lib/python3.7/dist-packages (from spacy) (3.0.6)\n",
            "Requirement already satisfied: wasabi<1.1.0,>=0.4.0 in /usr/local/lib/python3.7/dist-packages (from spacy) (0.8.2)\n",
            "Requirement already satisfied: blis<0.5.0,>=0.4.0 in /usr/local/lib/python3.7/dist-packages (from spacy) (0.4.1)\n",
            "Requirement already satisfied: tqdm<5.0.0,>=4.38.0 in /usr/local/lib/python3.7/dist-packages (from spacy) (4.62.3)\n",
            "Requirement already satisfied: srsly<1.1.0,>=1.0.2 in /usr/local/lib/python3.7/dist-packages (from spacy) (1.0.5)\n",
            "Requirement already satisfied: requests<3.0.0,>=2.13.0 in /usr/local/lib/python3.7/dist-packages (from spacy) (2.23.0)\n",
            "Requirement already satisfied: numpy>=1.15.0 in /usr/local/lib/python3.7/dist-packages (from spacy) (1.19.5)\n",
            "Requirement already satisfied: catalogue<1.1.0,>=0.0.7 in /usr/local/lib/python3.7/dist-packages (from spacy) (1.0.0)\n",
            "Requirement already satisfied: murmurhash<1.1.0,>=0.28.0 in /usr/local/lib/python3.7/dist-packages (from spacy) (1.0.6)\n",
            "Requirement already satisfied: setuptools in /usr/local/lib/python3.7/dist-packages (from spacy) (57.4.0)\n",
            "Requirement already satisfied: plac<1.2.0,>=0.9.6 in /usr/local/lib/python3.7/dist-packages (from spacy) (1.1.3)\n",
            "Requirement already satisfied: thinc==7.4.0 in /usr/local/lib/python3.7/dist-packages (from spacy) (7.4.0)\n",
            "Requirement already satisfied: importlib-metadata>=0.20 in /usr/local/lib/python3.7/dist-packages (from catalogue<1.1.0,>=0.0.7->spacy) (4.8.2)\n",
            "Requirement already satisfied: zipp>=0.5 in /usr/local/lib/python3.7/dist-packages (from importlib-metadata>=0.20->catalogue<1.1.0,>=0.0.7->spacy) (3.6.0)\n",
            "Requirement already satisfied: typing-extensions>=3.6.4 in /usr/local/lib/python3.7/dist-packages (from importlib-metadata>=0.20->catalogue<1.1.0,>=0.0.7->spacy) (3.10.0.2)\n",
            "Requirement already satisfied: certifi>=2017.4.17 in /usr/local/lib/python3.7/dist-packages (from requests<3.0.0,>=2.13.0->spacy) (2021.10.8)\n",
            "Requirement already satisfied: chardet<4,>=3.0.2 in /usr/local/lib/python3.7/dist-packages (from requests<3.0.0,>=2.13.0->spacy) (3.0.4)\n",
            "Requirement already satisfied: urllib3!=1.25.0,!=1.25.1,<1.26,>=1.21.1 in /usr/local/lib/python3.7/dist-packages (from requests<3.0.0,>=2.13.0->spacy) (1.24.3)\n",
            "Requirement already satisfied: idna<3,>=2.5 in /usr/local/lib/python3.7/dist-packages (from requests<3.0.0,>=2.13.0->spacy) (2.10)\n"
          ]
        }
      ],
      "source": [
        "pip install spacy"
      ]
    },
    {
      "cell_type": "code",
      "execution_count": null,
      "metadata": {
        "colab": {
          "base_uri": "https://localhost:8080/"
        },
        "id": "j03M1_GfYuQa",
        "outputId": "0c7a83ae-89ff-42b7-feac-6fe8b55d2b34"
      },
      "outputs": [
        {
          "name": "stdout",
          "output_type": "stream",
          "text": [
            "Collecting fr_core_news_sm==2.2.5\n",
            "  Downloading https://github.com/explosion/spacy-models/releases/download/fr_core_news_sm-2.2.5/fr_core_news_sm-2.2.5.tar.gz (14.7 MB)\n",
            "\u001b[K     |████████████████████████████████| 14.7 MB 9.5 MB/s \n",
            "\u001b[?25hRequirement already satisfied: spacy>=2.2.2 in /usr/local/lib/python3.7/dist-packages (from fr_core_news_sm==2.2.5) (2.2.4)\n",
            "Requirement already satisfied: srsly<1.1.0,>=1.0.2 in /usr/local/lib/python3.7/dist-packages (from spacy>=2.2.2->fr_core_news_sm==2.2.5) (1.0.5)\n",
            "Requirement already satisfied: tqdm<5.0.0,>=4.38.0 in /usr/local/lib/python3.7/dist-packages (from spacy>=2.2.2->fr_core_news_sm==2.2.5) (4.62.3)\n",
            "Requirement already satisfied: setuptools in /usr/local/lib/python3.7/dist-packages (from spacy>=2.2.2->fr_core_news_sm==2.2.5) (57.4.0)\n",
            "Requirement already satisfied: catalogue<1.1.0,>=0.0.7 in /usr/local/lib/python3.7/dist-packages (from spacy>=2.2.2->fr_core_news_sm==2.2.5) (1.0.0)\n",
            "Requirement already satisfied: plac<1.2.0,>=0.9.6 in /usr/local/lib/python3.7/dist-packages (from spacy>=2.2.2->fr_core_news_sm==2.2.5) (1.1.3)\n",
            "Requirement already satisfied: thinc==7.4.0 in /usr/local/lib/python3.7/dist-packages (from spacy>=2.2.2->fr_core_news_sm==2.2.5) (7.4.0)\n",
            "Requirement already satisfied: blis<0.5.0,>=0.4.0 in /usr/local/lib/python3.7/dist-packages (from spacy>=2.2.2->fr_core_news_sm==2.2.5) (0.4.1)\n",
            "Requirement already satisfied: requests<3.0.0,>=2.13.0 in /usr/local/lib/python3.7/dist-packages (from spacy>=2.2.2->fr_core_news_sm==2.2.5) (2.23.0)\n",
            "Requirement already satisfied: cymem<2.1.0,>=2.0.2 in /usr/local/lib/python3.7/dist-packages (from spacy>=2.2.2->fr_core_news_sm==2.2.5) (2.0.6)\n",
            "Requirement already satisfied: wasabi<1.1.0,>=0.4.0 in /usr/local/lib/python3.7/dist-packages (from spacy>=2.2.2->fr_core_news_sm==2.2.5) (0.8.2)\n",
            "Requirement already satisfied: preshed<3.1.0,>=3.0.2 in /usr/local/lib/python3.7/dist-packages (from spacy>=2.2.2->fr_core_news_sm==2.2.5) (3.0.6)\n",
            "Requirement already satisfied: murmurhash<1.1.0,>=0.28.0 in /usr/local/lib/python3.7/dist-packages (from spacy>=2.2.2->fr_core_news_sm==2.2.5) (1.0.6)\n",
            "Requirement already satisfied: numpy>=1.15.0 in /usr/local/lib/python3.7/dist-packages (from spacy>=2.2.2->fr_core_news_sm==2.2.5) (1.19.5)\n",
            "Requirement already satisfied: importlib-metadata>=0.20 in /usr/local/lib/python3.7/dist-packages (from catalogue<1.1.0,>=0.0.7->spacy>=2.2.2->fr_core_news_sm==2.2.5) (4.8.2)\n",
            "Requirement already satisfied: zipp>=0.5 in /usr/local/lib/python3.7/dist-packages (from importlib-metadata>=0.20->catalogue<1.1.0,>=0.0.7->spacy>=2.2.2->fr_core_news_sm==2.2.5) (3.6.0)\n",
            "Requirement already satisfied: typing-extensions>=3.6.4 in /usr/local/lib/python3.7/dist-packages (from importlib-metadata>=0.20->catalogue<1.1.0,>=0.0.7->spacy>=2.2.2->fr_core_news_sm==2.2.5) (3.10.0.2)\n",
            "Requirement already satisfied: idna<3,>=2.5 in /usr/local/lib/python3.7/dist-packages (from requests<3.0.0,>=2.13.0->spacy>=2.2.2->fr_core_news_sm==2.2.5) (2.10)\n",
            "Requirement already satisfied: chardet<4,>=3.0.2 in /usr/local/lib/python3.7/dist-packages (from requests<3.0.0,>=2.13.0->spacy>=2.2.2->fr_core_news_sm==2.2.5) (3.0.4)\n",
            "Requirement already satisfied: certifi>=2017.4.17 in /usr/local/lib/python3.7/dist-packages (from requests<3.0.0,>=2.13.0->spacy>=2.2.2->fr_core_news_sm==2.2.5) (2021.10.8)\n",
            "Requirement already satisfied: urllib3!=1.25.0,!=1.25.1,<1.26,>=1.21.1 in /usr/local/lib/python3.7/dist-packages (from requests<3.0.0,>=2.13.0->spacy>=2.2.2->fr_core_news_sm==2.2.5) (1.24.3)\n",
            "Building wheels for collected packages: fr-core-news-sm\n",
            "  Building wheel for fr-core-news-sm (setup.py) ... \u001b[?25l\u001b[?25hdone\n",
            "  Created wheel for fr-core-news-sm: filename=fr_core_news_sm-2.2.5-py3-none-any.whl size=14727026 sha256=725ddf2c92c8e812a3ddcaf1d681d2a9c0664549c3a599e496cdc9be1a1000fd\n",
            "  Stored in directory: /tmp/pip-ephem-wheel-cache-8fitpd49/wheels/c9/a6/ea/0778337c34660027ee67ef3a91fb9d3600b76777a912ea1c24\n",
            "Successfully built fr-core-news-sm\n",
            "Installing collected packages: fr-core-news-sm\n",
            "Successfully installed fr-core-news-sm-2.2.5\n",
            "\u001b[38;5;2m✔ Download and installation successful\u001b[0m\n",
            "You can now load the model via spacy.load('fr_core_news_sm')\n"
          ]
        }
      ],
      "source": [
        "!python -m spacy download fr_core_news_sm"
      ]
    },
    {
      "cell_type": "code",
      "execution_count": null,
      "metadata": {
        "id": "IDUNQsURI7q4"
      },
      "outputs": [],
      "source": [
        "!pip install -q tensorflow_datasets"
      ]
    },
    {
      "cell_type": "markdown",
      "metadata": {
        "id": "Y6UbcRqtW9wi"
      },
      "source": [
        "#**Libraries**"
      ]
    },
    {
      "cell_type": "code",
      "execution_count": null,
      "metadata": {
        "id": "6Pk54fxGXz9O"
      },
      "outputs": [],
      "source": [
        "import numpy as np\n",
        "import pandas as pd\n",
        "import matplotlib.pyplot as plt\n",
        "import re\n",
        "from sklearn import preprocessing\n",
        "import tensorflow as tf\n",
        "from sklearn.metrics import f1_score, accuracy_score \n",
        "import collections\n",
        "import nltk\n",
        "import tensorflow_datasets as tfds\n",
        "from keras.preprocessing.sequence import pad_sequences\n",
        "from tensorflow import keras\n",
        "from keras.models import Model\n",
        "from keras.layers import Input, LSTM,Dense, Embedding, LayerNormalization\n",
        "from keras.preprocessing.text import Tokenizer\n",
        "import os"
      ]
    },
    {
      "cell_type": "markdown",
      "metadata": {
        "id": "iOHcd0rdYNGf"
      },
      "source": [
        "# **Load Data and Preprocessing** "
      ]
    },
    {
      "cell_type": "code",
      "execution_count": null,
      "metadata": {
        "id": "oCk5jrTZYKuZ"
      },
      "outputs": [],
      "source": [
        "df_train = pd.read_csv(\"train.csv\")\n",
        "df_test = pd.read_csv(\"test.csv\")\n",
        "df_val = pd.read_csv(\"val.csv\")"
      ]
    },
    {
      "cell_type": "code",
      "execution_count": null,
      "metadata": {
        "id": "wP_e67adgKpF"
      },
      "outputs": [],
      "source": [
        "def clean_text( string: str, punctuations=r'''!()[]{};:'\"\\,<>./?@#%^&*_''') -> str:\n",
        "  #on enleve les chiffres\n",
        "    string=re.sub(r'[0-9]+','',string)\n",
        "  #on enleve la ponctuation\n",
        "    for x in string.lower():\n",
        "      if x in punctuations:\n",
        "        string=string.replace(x,\" \")\n",
        "  #on met en miniscule\n",
        "    string=string.lower()\n",
        "    return string"
      ]
    },
    {
      "cell_type": "code",
      "execution_count": null,
      "metadata": {
        "id": "XGKaEM7kgi6J"
      },
      "outputs": [],
      "source": [
        "df_list=[clean_text(x) for x in df_train['RawText'].astype(str)]\n",
        "df_train = pd.DataFrame(list(zip(df_list, list(df_train['ICD10']))), columns =['RawText', 'ICD10'])\n",
        "\n",
        "df_list=[clean_text(x) for x in df_test['RawText'].astype(str)]\n",
        "df_test = pd.DataFrame(list(zip(df_list, list(df_test['ICD10']))), columns =['RawText', 'ICD10'])\n",
        "\n",
        "df_list=[clean_text(x) for x in df_val['RawText'].astype(str)]\n",
        "df_val = pd.DataFrame(list(zip(df_list, list(df_val['ICD10']))), columns =['RawText', 'ICD10'])"
      ]
    },
    {
      "cell_type": "code",
      "execution_count": null,
      "metadata": {
        "id": "H7iT25y6gcEA"
      },
      "outputs": [],
      "source": [
        "df_labels=pd.concat([df_train['ICD10'], df_test['ICD10'],df_val['ICD10']])\n",
        "labels=preprocessing.LabelEncoder().fit_transform(df_labels)\n",
        "\n",
        "y_train = labels[:181763]\n",
        "y_test = labels[181763:211763]\n",
        "y_val = labels[211763:241763]"
      ]
    },
    {
      "cell_type": "markdown",
      "metadata": {
        "id": "dM-VlZi8XD4T"
      },
      "source": [
        "# **Exercice 1 :** Description du jeu de données"
      ]
    },
    {
      "cell_type": "code",
      "execution_count": null,
      "metadata": {
        "id": "kosVtQvUbT9Z"
      },
      "outputs": [],
      "source": [
        "df = pd.concat([df_train, df_test, df_val], axis=0)"
      ]
    },
    {
      "cell_type": "code",
      "execution_count": null,
      "metadata": {
        "colab": {
          "base_uri": "https://localhost:8080/",
          "height": 112
        },
        "id": "cCQx3Vk4bbkA",
        "outputId": "90af2425-93b7-47ac-bb72-e98e5bd0f14c"
      },
      "outputs": [
        {
          "data": {
            "text/html": [
              "<div>\n",
              "<style scoped>\n",
              "    .dataframe tbody tr th:only-of-type {\n",
              "        vertical-align: middle;\n",
              "    }\n",
              "\n",
              "    .dataframe tbody tr th {\n",
              "        vertical-align: top;\n",
              "    }\n",
              "\n",
              "    .dataframe thead th {\n",
              "        text-align: right;\n",
              "    }\n",
              "</style>\n",
              "<table border=\"1\" class=\"dataframe\">\n",
              "  <thead>\n",
              "    <tr style=\"text-align: right;\">\n",
              "      <th></th>\n",
              "      <th>RawText</th>\n",
              "      <th>ICD10</th>\n",
              "    </tr>\n",
              "  </thead>\n",
              "  <tbody>\n",
              "    <tr>\n",
              "      <th>0</th>\n",
              "      <td>thrombose veineuse profonde cuisse gauche</td>\n",
              "      <td>I802</td>\n",
              "    </tr>\n",
              "    <tr>\n",
              "      <th>1</th>\n",
              "      <td>hémiplégie post-traumatique</td>\n",
              "      <td>S099</td>\n",
              "    </tr>\n",
              "  </tbody>\n",
              "</table>\n",
              "</div>"
            ],
            "text/plain": [
              "                                     RawText ICD10\n",
              "0  thrombose veineuse profonde cuisse gauche  I802\n",
              "1                hémiplégie post-traumatique  S099"
            ]
          },
          "execution_count": 8,
          "metadata": {},
          "output_type": "execute_result"
        }
      ],
      "source": [
        "df.head(2)"
      ]
    },
    {
      "cell_type": "code",
      "execution_count": null,
      "metadata": {
        "colab": {
          "base_uri": "https://localhost:8080/"
        },
        "id": "58gSH1VpcBTn",
        "outputId": "6dcca7de-944e-4662-8902-1799d3b47362"
      },
      "outputs": [
        {
          "data": {
            "text/plain": [
              "S062    1472\n",
              "C798    1343\n",
              "C859    1067\n",
              "C349     998\n",
              "Z924     850\n",
              "        ... \n",
              "K65        1\n",
              "Y462       1\n",
              "F650       1\n",
              "T529       1\n",
              "T366       1\n",
              "Name: ICD10, Length: 9541, dtype: int64"
            ]
          },
          "execution_count": 9,
          "metadata": {},
          "output_type": "execute_result"
        }
      ],
      "source": [
        "df['ICD10'].value_counts()"
      ]
    },
    {
      "cell_type": "code",
      "execution_count": null,
      "metadata": {
        "colab": {
          "base_uri": "https://localhost:8080/"
        },
        "id": "yohK9Whhetp4",
        "outputId": "51b037a1-6c2a-4ce3-b270-a40617e0afe2"
      },
      "outputs": [
        {
          "name": "stdout",
          "output_type": "stream",
          "text": [
            "Il existe: 32653 mots différents dans nos données textuelles.\n"
          ]
        }
      ],
      "source": [
        "uniqueWords = list(set(\" \".join(df['RawText']).lower().split(\" \")))\n",
        "nbWords = len(uniqueWords)\n",
        "print(\"Il existe: \"+str(nbWords)+\" mots différents dans nos données textuelles.\")"
      ]
    },
    {
      "cell_type": "code",
      "execution_count": null,
      "metadata": {
        "colab": {
          "base_uri": "https://localhost:8080/"
        },
        "id": "G92bgQp9fmid",
        "outputId": "444323e1-b884-41cd-ba53-9981d23a79f1"
      },
      "outputs": [
        {
          "name": "stdout",
          "output_type": "stream",
          "text": [
            "Il existe: 9541 CIM différents dans le jeu de données.\n"
          ]
        }
      ],
      "source": [
        "nbClass=len(df.ICD10.unique())\n",
        "print(\"Il existe: \"+str(nbClass)+\" CIM différents dans le jeu de données.\") "
      ]
    },
    {
      "cell_type": "code",
      "execution_count": null,
      "metadata": {
        "colab": {
          "base_uri": "https://localhost:8080/",
          "height": 425
        },
        "id": "zxMELcNUgXGH",
        "outputId": "a883fb50-5c7c-41ce-bd49-8c2a0552d780"
      },
      "outputs": [
        {
          "data": {
            "image/png": "[encoded data removed]",
            "text/plain": [
              "<Figure size 1800x720 with 1 Axes>"
            ]
          },
          "metadata": {
            "needs_background": "light"
          },
          "output_type": "display_data"
        }
      ],
      "source": [
        "dicClass=collections.Counter(df[\"ICD10\"])\n",
        "\n",
        "plt.figure(figsize=(25, 10))\n",
        "plt.bar(list(dicClass.keys())[:50],list(dicClass.values())[:50], color=\"maroon\")\n",
        "plt.show()"
      ]
    },
    {
      "cell_type": "markdown",
      "metadata": {
        "id": "otDxudlTiT0G"
      },
      "source": [
        "Le jeu de données n'est pas équilibré, ainsi, la métrique à utiliser est la f1 score et non l'accuracy."
      ]
    },
    {
      "cell_type": "markdown",
      "metadata": {
        "id": "tW1HKWFsW9y-"
      },
      "source": [
        "# **Exercice 2** : Classification du premier caractère du code CIM-10 à partir du langage naturel"
      ]
    },
    {
      "cell_type": "code",
      "execution_count": null,
      "metadata": {
        "id": "8vYyK3rmVve6"
      },
      "outputs": [],
      "source": [
        "df_train['ICD10_1_Carac']=df_train['ICD10'].apply(lambda x: x[0])\n",
        "df_test['ICD10_1_Carac']=df_test['ICD10'].apply(lambda x: x[0])\n",
        "df_val['ICD10_1_Carac']=df_val['ICD10'].apply(lambda x: x[0])\n",
        "\n",
        "df_train['ICD10_1_Carac']=preprocessing.LabelEncoder().fit_transform(df_train.ICD10_1_Carac.values)\n",
        "df_test['ICD10_1_Carac']=preprocessing.LabelEncoder().fit_transform(df_test.ICD10_1_Carac.values)\n",
        "df_val['ICD10_1_Carac']=preprocessing.LabelEncoder().fit_transform(df_val.ICD10_1_Carac.values)"
      ]
    },
    {
      "cell_type": "code",
      "execution_count": null,
      "metadata": {
        "colab": {
          "base_uri": "https://localhost:8080/"
        },
        "id": "s8PPmJMZi_sa",
        "outputId": "4cbb5421-8c15-4da0-a872-0d2fbbebda29"
      },
      "outputs": [
        {
          "name": "stdout",
          "output_type": "stream",
          "text": [
            "Nombre de mots dans notre vocabulaire (après nettoyage: suppression de la ponctuation et mise en miniscule):  28970\n",
            "Nombre de classes :  26\n",
            "Taille des vecteurs qui contienderont les documents :  32 \n",
            "\n"
          ]
        }
      ],
      "source": [
        "uniqueWords = list(set(\" \".join(df_train['RawText']).lower().split(\" \")))\n",
        "max_features = len(uniqueWords)\n",
        "print(\"Nombre de mots dans notre vocabulaire (après nettoyage: suppression de la ponctuation et mise en miniscule): \", max_features)\n",
        "\n",
        "nbre_classes = len(set(df_train['ICD10_1_Carac']))\n",
        "print(\"Nombre de classes : \", nbre_classes)\n",
        "\n",
        "# La taille du vecteur document (première couche) doit être égale à la taille du document avec le plus grand nombre de mots\n",
        "max_len = df_train.RawText.str.split(\" \").str.len().max()\n",
        "print(\"Taille des vecteurs qui contienderont les documents : \", max_len, \"\\n\")"
      ]
    },
    {
      "cell_type": "code",
      "execution_count": null,
      "metadata": {
        "colab": {
          "base_uri": "https://localhost:8080/"
        },
        "id": "MqdRAKUJi0aw",
        "outputId": "96564970-f8dd-4a9d-bda6-ad8ddb8d450c"
      },
      "outputs": [
        {
          "name": "stdout",
          "output_type": "stream",
          "text": [
            "----- Entrainement du modèle -----\n",
            "Epoch 1/5\n",
            "5681/5681 [==============================] - 119s 20ms/step - loss: 1.2610 - accuracy: 0.6547 - val_loss: 0.7445 - val_accuracy: 0.7896\n",
            "Epoch 2/5\n",
            "5681/5681 [==============================] - 141s 25ms/step - loss: 0.5979 - accuracy: 0.8282 - val_loss: 0.6203 - val_accuracy: 0.8147\n",
            "Epoch 3/5\n",
            "5681/5681 [==============================] - 108s 19ms/step - loss: 0.4582 - accuracy: 0.8588 - val_loss: 0.5880 - val_accuracy: 0.8237\n",
            "Epoch 4/5\n",
            "5681/5681 [==============================] - 117s 21ms/step - loss: 0.3936 - accuracy: 0.8722 - val_loss: 0.5714 - val_accuracy: 0.8277\n",
            "Epoch 5/5\n",
            "5681/5681 [==============================] - 86s 15ms/step - loss: 0.3567 - accuracy: 0.8805 - val_loss: 0.5704 - val_accuracy: 0.8284\n",
            "\n",
            "----- Evaluation du modele  -----\n",
            "938/938 [==============================] - 6s 6ms/step - loss: 0.5661 - accuracy: 0.8333\n",
            "Accuracy: 0.8332666754722595\n",
            "\n",
            "----- Evaluation du modele : f1-Score  -----\n"
          ]
        },
        {
          "data": {
            "text/plain": [
              "0.8319900155222053"
            ]
          },
          "execution_count": 34,
          "metadata": {},
          "output_type": "execute_result"
        }
      ],
      "source": [
        "vectorize_layer = tf.keras.layers.TextVectorization(max_tokens=28970, output_mode='int')\n",
        "\n",
        "vectorize_layer.adapt(df_train[\"RawText\"])\n",
        "\n",
        "#Construction de notre réseau de neuronne \n",
        "model = tf.keras.models.Sequential()\n",
        "\n",
        "model.add(tf.keras.Input(shape=(1,), dtype=tf.string))\n",
        "model.add(vectorize_layer)\n",
        "model.add(tf.keras.layers.Embedding(28970, output_dim=32, mask_zero=True))\n",
        "model.add(tf.keras.layers.LSTM(32, dropout=0.1))\n",
        "model.add( tf.keras.layers.Dense(26,activation='softmax'))\n",
        "\n",
        "model.compile(optimizer='adam', loss='sparse_categorical_crossentropy', metrics=['accuracy'])\n",
        "\n",
        "print(\"----- Entrainement du modèle -----\")\n",
        "model.fit(x=df_train[\"RawText\"],y= df_train['ICD10_1_Carac'], epochs=5, validation_data=(df_val['RawText'], df_val['ICD10_1_Carac']))\n",
        "\n",
        "print(\"\\n----- Evaluation du modele  -----\")\n",
        "print(\"Accuracy:\", model.evaluate(df_test['RawText'],df_test['ICD10_1_Carac'])[1])\n",
        "\n",
        "yhat_probs = model.predict(df_test['RawText'], verbose=0)\n",
        "y_pred = np.argmax(yhat_probs,axis=1)\n",
        "\n",
        "print(\"\\n----- Evaluation du modele : f1-Score  -----\")\n",
        "f1_score(df_test['ICD10_1_Carac'].to_numpy(), y_pred, average='weighted')"
      ]
    },
    {
      "cell_type": "markdown",
      "metadata": {
        "id": "p1OsK4jVeNzl"
      },
      "source": [
        "# **Exercice 3 :** Classification du code CIM-10 entier à partir du langage naturel"
      ]
    },
    {
      "cell_type": "markdown",
      "metadata": {
        "id": "mBgvzz8MeWPF"
      },
      "source": [
        "### Partie 1"
      ]
    },
    {
      "cell_type": "code",
      "execution_count": null,
      "metadata": {
        "colab": {
          "base_uri": "https://localhost:8080/"
        },
        "id": "jg-UH3kKeNzm",
        "outputId": "e360a2f5-9a1b-47d8-ec4b-b745ca4b489c"
      },
      "outputs": [
        {
          "name": "stdout",
          "output_type": "stream",
          "text": [
            "Nombre de mots dans notre vocabulaire (après nettoyage) :  28970\n",
            "Nombre de classes dans le train :  9248\n",
            "Taille des vecteurs qui contienderont les documents :  32 \n",
            "\n"
          ]
        }
      ],
      "source": [
        "uniqueWords = list(set(\" \".join(df_train['RawText']).lower().split(\" \")))\n",
        "max_features = len(uniqueWords)\n",
        "print(\"Nombre de mots dans notre vocabulaire (après nettoyage) : \", max_features)\n",
        "\n",
        "nbre_classes = len(set(df_train['ICD10']))\n",
        "print(\"Nombre de classes: \", nbre_classes)\n",
        "\n",
        "# La taille du vecteur document (première couche) doit être égale à la taille du document avec le plus grand nombre de mots\n",
        "max_len = df_train.RawText.str.split(\" \").str.len().max()\n",
        "print(\"Taille des vecteurs qui contienderont les documents : \", max_len, \"\\n\")"
      ]
    },
    {
      "cell_type": "code",
      "execution_count": null,
      "metadata": {
        "colab": {
          "base_uri": "https://localhost:8080/"
        },
        "id": "IVGUuCBWeNzn",
        "outputId": "78b5a395-ccae-46a3-8cb0-a7548b969a86"
      },
      "outputs": [
        {
          "name": "stdout",
          "output_type": "stream",
          "text": [
            "----- Entrainement du modèle -----\n",
            "Epoch 1/8\n",
            "5681/5681 [==============================] - 302s 52ms/step - loss: 6.8007 - accuracy: 0.0775\n",
            "Epoch 2/8\n",
            "5681/5681 [==============================] - 314s 55ms/step - loss: 4.1361 - accuracy: 0.2973\n",
            "Epoch 3/8\n",
            "5681/5681 [==============================] - 357s 63ms/step - loss: 2.7710 - accuracy: 0.4677\n",
            "Epoch 4/8\n",
            "5681/5681 [==============================] - 297s 52ms/step - loss: 2.0131 - accuracy: 0.5794\n",
            "Epoch 5/8\n",
            "5681/5681 [==============================] - 299s 53ms/step - loss: 1.5472 - accuracy: 0.6586\n",
            "Epoch 6/8\n",
            "5681/5681 [==============================] - 283s 50ms/step - loss: 1.2434 - accuracy: 0.7112\n",
            "Epoch 7/8\n",
            "5681/5681 [==============================] - 291s 51ms/step - loss: 1.0325 - accuracy: 0.7495\n",
            "Epoch 8/8\n",
            "5681/5681 [==============================] - 292s 51ms/step - loss: 0.8854 - accuracy: 0.7758\n",
            "\n",
            "----- Evaluation du modele : f1-Score  -----\n"
          ]
        },
        {
          "data": {
            "text/plain": [
              "0.5848366311436312"
            ]
          },
          "execution_count": 6,
          "metadata": {},
          "output_type": "execute_result"
        }
      ],
      "source": [
        "vectorize_layer = tf.keras.layers.TextVectorization(max_tokens=36326, output_mode='int')\n",
        "\n",
        "vectorize_layer.adapt(df_train[\"RawText\"])\n",
        "\n",
        "model = tf.keras.models.Sequential()\n",
        "model.add(tf.keras.Input(shape=(1,), dtype=tf.string))\n",
        "model.add(vectorize_layer)\n",
        "model.add(tf.keras.layers.Embedding(input_dim=36326, output_dim = 32, mask_zero=True))\n",
        "model.add(tf.keras.layers.Bidirectional(tf.keras.layers.LSTM(64)))\n",
        "model.add(tf.keras.layers.Dense(9541, activation=\"softmax\"))\n",
        "\n",
        "model.compile(optimizer='adam', loss='sparse_categorical_crossentropy', metrics=['accuracy'])\n",
        "\n",
        "print(\"----- Entrainement du modèle -----\")\n",
        "model.fit(x=df_train[\"RawText\"],y= y_train, epochs=8)\n",
        "\n",
        "yhat_probs = model.predict(df_test['RawText'], verbose=0)\n",
        "y_pred = np.argmax(yhat_probs,axis=1)\n",
        "\n",
        "print(\"\\n----- Evaluation du modele : f1-Score  -----\")\n",
        "f1_score(y_test, y_pred, average='weighted')"
      ]
    },
    {
      "cell_type": "markdown",
      "metadata": {
        "id": "D09I4LUkgDC2"
      },
      "source": [
        "Les résultats obtenus sont moins bons que ceux de l'exercice précédent. Ceci était prévisible pour plusieurs raisons:\n",
        "\n",
        "*   Le très grand nombre de classe.\n",
        "*   Pour certaines classes le modèle a appris que sur un exemple voir très très peu. (ce n'est pas suffisant pour qu'il puisse apprendre).\n",
        "*   Le train set contient 9248 classes or que le jeu de données intégralement en contient 9541.\n",
        "\n"
      ]
    },
    {
      "cell_type": "markdown",
      "metadata": {
        "id": "pYo_r8FHuRhQ"
      },
      "source": [
        "### Partie 2"
      ]
    },
    {
      "cell_type": "code",
      "execution_count": null,
      "metadata": {
        "id": "EvCkU0Qoo8cJ"
      },
      "outputs": [],
      "source": [
        "label_enc = preprocessing.LabelEncoder()\n",
        "label_enc.fit(df_labels)\n",
        "y_pred_decoded = label_enc.inverse_transform(y_pred)"
      ]
    },
    {
      "cell_type": "code",
      "execution_count": null,
      "metadata": {
        "id": "lbhNpNtBvrIA"
      },
      "outputs": [],
      "source": [
        "y_test_1_carac=df_test['ICD10'].apply(lambda x: x[0])\n",
        "y_test_2_carac=df_test['ICD10'].apply(lambda x: x[0:2])\n",
        "y_test_3_carac=df_test['ICD10'].apply(lambda x: x[0:3])"
      ]
    },
    {
      "cell_type": "code",
      "execution_count": null,
      "metadata": {
        "id": "oF0f0s-qxxIX"
      },
      "outputs": [],
      "source": [
        "y_pred_decoded_1_carac=[x[0] for x in y_pred_decoded]\n",
        "y_pred_decoded_2_carac=[x[0:2] for x in y_pred_decoded]\n",
        "y_pred_decoded_3_carac=[x[0:3] for x in y_pred_decoded]"
      ]
    },
    {
      "cell_type": "code",
      "execution_count": null,
      "metadata": {
        "colab": {
          "base_uri": "https://localhost:8080/"
        },
        "id": "rQgJR17BKE3n",
        "outputId": "14fe8478-3f2c-4301-ccf2-a08323a78365"
      },
      "outputs": [
        {
          "data": {
            "text/plain": [
              "0.7941435265952006"
            ]
          },
          "execution_count": 10,
          "metadata": {},
          "output_type": "execute_result"
        }
      ],
      "source": [
        "f1_score(y_test_1_carac, y_pred_decoded_1_carac, average='weighted')"
      ]
    },
    {
      "cell_type": "code",
      "execution_count": null,
      "metadata": {
        "colab": {
          "base_uri": "https://localhost:8080/"
        },
        "id": "tIMZJBqdKP_M",
        "outputId": "7584bd8a-ea84-4192-bc6b-5b4ed7cb33be"
      },
      "outputs": [
        {
          "data": {
            "text/plain": [
              "0.733186981647169"
            ]
          },
          "execution_count": 11,
          "metadata": {},
          "output_type": "execute_result"
        }
      ],
      "source": [
        "f1_score(y_test_2_carac, y_pred_decoded_2_carac, average='weighted')"
      ]
    },
    {
      "cell_type": "code",
      "execution_count": null,
      "metadata": {
        "colab": {
          "base_uri": "https://localhost:8080/"
        },
        "id": "Lqdz5CBkKNv2",
        "outputId": "a4f9cd06-3145-4884-d7b2-5084022e560e"
      },
      "outputs": [
        {
          "data": {
            "text/plain": [
              "0.67241344755074"
            ]
          },
          "execution_count": 12,
          "metadata": {},
          "output_type": "execute_result"
        }
      ],
      "source": [
        "f1_score(y_test_3_carac, y_pred_decoded_3_carac, average='weighted')"
      ]
    },
    {
      "cell_type": "code",
      "execution_count": null,
      "metadata": {
        "colab": {
          "base_uri": "https://localhost:8080/",
          "height": 334
        },
        "id": "Ux25Krlnc4RZ",
        "outputId": "9524cd27-edce-4074-bfed-af1820684b51"
      },
      "outputs": [
        {
          "data": {
            "image/png": "[encoded data removed]",
            "text/plain": [
              "<Figure size 1080x360 with 1 Axes>"
            ]
          },
          "metadata": {
            "needs_background": "light"
          },
          "output_type": "display_data"
        }
      ],
      "source": [
        "df = pd.DataFrame({' ':['1 caractere', '2 caracteres','3 caracteres','4 caracteres'], 'f1_score':[0.79, 0.73, 0.67, 0.58]})\n",
        "ax = df.plot.bar(x=' ', y='f1_score', rot=0, color='maroon', figsize=(15, 5))"
      ]
    },
    {
      "cell_type": "markdown",
      "metadata": {
        "id": "Y2t9fBcBeq2E"
      },
      "source": [
        "Nous remarquons que plus le nombre de caractère augmente (augmentation du nombre de classes) plus notre f1_score diminue.  \n",
        "Cela reste cohérent, il est plus évident de prédire 26 classes que des milliers de classes. Dans notre cas, il on arrive à bien prédire la pathologie en elle même, mais plus on essaie de prédire la variante, moins on a de bons résultats."
      ]
    },
    {
      "cell_type": "markdown",
      "metadata": {
        "id": "iIVEvRUrW7tz"
      },
      "source": [
        "# **Exercice 4 :** Modèle seq2seq et prédiction gloutonne du code CIM-10 à partir du langage naturel"
      ]
    },
    {
      "cell_type": "code",
      "execution_count": null,
      "metadata": {
        "id": "wQyOTclVUEJE"
      },
      "outputs": [],
      "source": [
        "train = df_train\n",
        "test = df_test\n",
        "val = df_val"
      ]
    },
    {
      "cell_type": "markdown",
      "metadata": {
        "id": "GSfQGr9ZXDBd"
      },
      "source": [
        "## **Partie 1 : Ajustement du modèle par apprentissage forcé**"
      ]
    },
    {
      "cell_type": "markdown",
      "metadata": {
        "id": "UvEgdmxpZ_r2"
      },
      "source": [
        "### **Convertision des labels en séquences de texte**"
      ]
    },
    {
      "cell_type": "code",
      "execution_count": null,
      "metadata": {
        "colab": {
          "base_uri": "https://localhost:8080/",
          "height": 206
        },
        "id": "MQ4-1zf1ZJ6z",
        "outputId": "41ba7124-e3ff-418b-ec85-aef779051ac7"
      },
      "outputs": [
        {
          "data": {
            "text/html": [
              "\n",
              "  <div id=\"df-e9008374-96f9-4761-a7f0-1b0781269180\">\n",
              "    <div class=\"colab-df-container\">\n",
              "      <div>\n",
              "<style scoped>\n",
              "    .dataframe tbody tr th:only-of-type {\n",
              "        vertical-align: middle;\n",
              "    }\n",
              "\n",
              "    .dataframe tbody tr th {\n",
              "        vertical-align: top;\n",
              "    }\n",
              "\n",
              "    .dataframe thead th {\n",
              "        text-align: right;\n",
              "    }\n",
              "</style>\n",
              "<table border=\"1\" class=\"dataframe\">\n",
              "  <thead>\n",
              "    <tr style=\"text-align: right;\">\n",
              "      <th></th>\n",
              "      <th>RawText</th>\n",
              "      <th>ICD10</th>\n",
              "    </tr>\n",
              "  </thead>\n",
              "  <tbody>\n",
              "    <tr>\n",
              "      <th>0</th>\n",
              "      <td>Thrombose veineuse profonde cuisse gauche</td>\n",
              "      <td>I 8 0 2</td>\n",
              "    </tr>\n",
              "    <tr>\n",
              "      <th>1</th>\n",
              "      <td>Hémiplégie post-traumatique</td>\n",
              "      <td>S 0 9 9</td>\n",
              "    </tr>\n",
              "    <tr>\n",
              "      <th>2</th>\n",
              "      <td>Masculinisation avec hyperplasie surrénale</td>\n",
              "      <td>E 2 5 0</td>\n",
              "    </tr>\n",
              "    <tr>\n",
              "      <th>3</th>\n",
              "      <td>Hyperammoniémie cérébrale</td>\n",
              "      <td>E 7 2 2</td>\n",
              "    </tr>\n",
              "    <tr>\n",
              "      <th>4</th>\n",
              "      <td>Fistule artérioveineuse congénitale périphériq...</td>\n",
              "      <td>Q 2 5 7</td>\n",
              "    </tr>\n",
              "  </tbody>\n",
              "</table>\n",
              "</div>\n",
              "      <button class=\"colab-df-convert\" onclick=\"convertToInteractive('df-e9008374-96f9-4761-a7f0-1b0781269180')\"\n",
              "              title=\"Convert this dataframe to an interactive table.\"\n",
              "              style=\"display:none;\">\n",
              "        \n",
              "  <svg xmlns=\"http://www.w3.org/2000/svg\" height=\"24px\"viewBox=\"0 0 24 24\"\n",
              "       width=\"24px\">\n",
              "    <path d=\"M0 0h24v24H0V0z\" fill=\"none\"/>\n",
              "    <path d=\"M18.56 5.44l.94 2.06.94-2.06 2.06-.94-2.06-.94-.94-2.06-.94 2.06-2.06.94zm-11 1L8.5 8.5l.94-2.06 2.06-.94-2.06-.94L8.5 2.5l-.94 2.06-2.06.94zm10 10l.94 2.06.94-2.06 2.06-.94-2.06-.94-.94-2.06-.94 2.06-2.06.94z\"/><path d=\"M17.41 7.96l-1.37-1.37c-.4-.4-.92-.59-1.43-.59-.52 0-1.04.2-1.43.59L10.3 9.45l-7.72 7.72c-.78.78-.78 2.05 0 2.83L4 21.41c.39.39.9.59 1.41.59.51 0 1.02-.2 1.41-.59l7.78-7.78 2.81-2.81c.8-.78.8-2.07 0-2.86zM5.41 20L4 18.59l7.72-7.72 1.47 1.35L5.41 20z\"/>\n",
              "  </svg>\n",
              "      </button>\n",
              "      \n",
              "  <style>\n",
              "    .colab-df-container {\n",
              "      display:flex;\n",
              "      flex-wrap:wrap;\n",
              "      gap: 12px;\n",
              "    }\n",
              "\n",
              "    .colab-df-convert {\n",
              "      background-color: #E8F0FE;\n",
              "      border: none;\n",
              "      border-radius: 50%;\n",
              "      cursor: pointer;\n",
              "      display: none;\n",
              "      fill: #1967D2;\n",
              "      height: 32px;\n",
              "      padding: 0 0 0 0;\n",
              "      width: 32px;\n",
              "    }\n",
              "\n",
              "    .colab-df-convert:hover {\n",
              "      background-color: #E2EBFA;\n",
              "      box-shadow: 0px 1px 2px rgba(60, 64, 67, 0.3), 0px 1px 3px 1px rgba(60, 64, 67, 0.15);\n",
              "      fill: #174EA6;\n",
              "    }\n",
              "\n",
              "    [theme=dark] .colab-df-convert {\n",
              "      background-color: #3B4455;\n",
              "      fill: #D2E3FC;\n",
              "    }\n",
              "\n",
              "    [theme=dark] .colab-df-convert:hover {\n",
              "      background-color: #434B5C;\n",
              "      box-shadow: 0px 1px 3px 1px rgba(0, 0, 0, 0.15);\n",
              "      filter: drop-shadow(0px 1px 2px rgba(0, 0, 0, 0.3));\n",
              "      fill: #FFFFFF;\n",
              "    }\n",
              "  </style>\n",
              "\n",
              "      <script>\n",
              "        const buttonEl =\n",
              "          document.querySelector('#df-e9008374-96f9-4761-a7f0-1b0781269180 button.colab-df-convert');\n",
              "        buttonEl.style.display =\n",
              "          google.colab.kernel.accessAllowed ? 'block' : 'none';\n",
              "\n",
              "        async function convertToInteractive(key) {\n",
              "          const element = document.querySelector('#df-e9008374-96f9-4761-a7f0-1b0781269180');\n",
              "          const dataTable =\n",
              "            await google.colab.kernel.invokeFunction('convertToInteractive',\n",
              "                                                     [key], {});\n",
              "          if (!dataTable) return;\n",
              "\n",
              "          const docLinkHtml = 'Like what you see? Visit the ' +\n",
              "            '<a target=\"_blank\" href=https://colab.research.google.com/notebooks/data_table.ipynb>data table notebook</a>'\n",
              "            + ' to learn more about interactive tables.';\n",
              "          element.innerHTML = '';\n",
              "          dataTable['output_type'] = 'display_data';\n",
              "          await google.colab.output.renderOutput(dataTable, element);\n",
              "          const docLink = document.createElement('div');\n",
              "          docLink.innerHTML = docLinkHtml;\n",
              "          element.appendChild(docLink);\n",
              "        }\n",
              "      </script>\n",
              "    </div>\n",
              "  </div>\n",
              "  "
            ],
            "text/plain": [
              "                                             RawText    ICD10\n",
              "0          Thrombose veineuse profonde cuisse gauche  I 8 0 2\n",
              "1                        Hémiplégie post-traumatique  S 0 9 9\n",
              "2         Masculinisation avec hyperplasie surrénale  E 2 5 0\n",
              "3                          Hyperammoniémie cérébrale  E 7 2 2\n",
              "4  Fistule artérioveineuse congénitale périphériq...  Q 2 5 7"
            ]
          },
          "execution_count": 7,
          "metadata": {},
          "output_type": "execute_result"
        }
      ],
      "source": [
        "train['ICD10'] = train['ICD10'].apply(lambda x : ' '.join(list(x)))\n",
        "val['ICD10'] = val['ICD10'].apply(lambda x : ' '.join(list(x)))\n",
        "test['ICD10'] = test['ICD10'].apply(lambda x : ' '.join(list(x)))\n",
        "train.head()"
      ]
    },
    {
      "cell_type": "code",
      "execution_count": null,
      "metadata": {
        "colab": {
          "base_uri": "https://localhost:8080/"
        },
        "id": "46Bg3F7BiXlB",
        "outputId": "16b2a2a0-fa2c-41ef-b6e1-a30dd3d5efca"
      },
      "outputs": [
        {
          "name": "stdout",
          "output_type": "stream",
          "text": [
            "Nombre de mots en entrée :  32062\n",
            "Taille des vecteurs en entrée :  31 \n",
            "\n",
            "Nombre de mots en sortie :  36\n",
            "Taille des vecteurs en sortie :  5 \n",
            "\n"
          ]
        }
      ],
      "source": [
        "unique_words_input = list(set(\" \".join(train['RawText']).lower().split(\" \")))\n",
        "num_words_input = len(unique_words_input)\n",
        "print(\"Nombre de mots en entrée : \", num_words_input)\n",
        "\n",
        "max_len_input = train.RawText.str.split(\" \").str.len().max()\n",
        "print(\"Taille des vecteurs en entrée : \", max_len_input, \"\\n\")\n",
        "\n",
        "unique_words_output = list(set(\" \".join(train['ICD10']).lower().split(\" \")))\n",
        "num_words_output = len(unique_words_output)\n",
        "print(\"Nombre de mots en sortie : \", num_words_output)\n",
        "\n",
        "max_len_output = train.ICD10.str.split(\" \").str.len().max() + 1\n",
        "print(\"Taille des vecteurs en sortie : \", max_len_output, \"\\n\")"
      ]
    },
    {
      "cell_type": "markdown",
      "metadata": {
        "id": "X5T8ptq-vBdz"
      },
      "source": [
        "### **Création des séquences d'entrée de l'encodeur, des séquences d'entrée et de sortie du décodeur**"
      ]
    },
    {
      "cell_type": "code",
      "execution_count": null,
      "metadata": {
        "colab": {
          "base_uri": "https://localhost:8080/"
        },
        "id": "2i9OIVFihXRg",
        "outputId": "a8d8a64a-9480-4804-808e-e5f041d75d0f"
      },
      "outputs": [
        {
          "name": "stdout",
          "output_type": "stream",
          "text": [
            "Douleur dentaire, dents\n",
            "K 0 8 8 <end>\n",
            "<start> K 0 8 8\n"
          ]
        }
      ],
      "source": [
        "input_sentences_train = train['RawText'].values.tolist()\n",
        "\n",
        "list = train['ICD10'].values.tolist()\n",
        "output_sentences_inputs_train = ['<start> ' + x for x in list]\n",
        "output_sentences_train = [x + ' <end>' for x in list]\n",
        "\n",
        "\n",
        "print(input_sentences_train[17])\n",
        "print(output_sentences_train[17])\n",
        "print(output_sentences_inputs_train[17])"
      ]
    },
    {
      "cell_type": "code",
      "execution_count": null,
      "metadata": {
        "id": "UWlK9XIGZv0Y"
      },
      "outputs": [],
      "source": [
        "# val data\n",
        "input_sentences_val = val['RawText'].values.tolist()\n",
        "\n",
        "list = val['ICD10'].values.tolist()\n",
        "output_sentences_inputs_val = ['<start> ' + x for x in list]\n",
        "output_sentences_val = [x + ' <end>' for x in list]"
      ]
    },
    {
      "cell_type": "code",
      "execution_count": null,
      "metadata": {
        "id": "VsRwTcQiZv_e"
      },
      "outputs": [],
      "source": [
        "# test data\n",
        "input_sentences_test = test['RawText'].values.tolist()\n",
        "\n",
        "list = test['ICD10'].values.tolist()\n",
        "output_sentences_inputs_test = ['<start> ' + x for x in list]\n",
        "output_sentences_test = [x + ' <end>' for x in list]"
      ]
    },
    {
      "cell_type": "markdown",
      "metadata": {
        "id": "PwzjgW4qm5pL"
      },
      "source": [
        "### **Text tokenization**"
      ]
    },
    {
      "cell_type": "markdown",
      "metadata": {
        "id": "I85rTnSb90gP"
      },
      "source": [
        "On transforme les mots de chaque phrase en un entier. Tous les mots du jeu de données sont stockés dans un dictionnaire. Les entiers sont les clés du dictionnaire. Pour accéder aux mots dans le dictionnaire, on aura besoin de ces entiers.\n"
      ]
    },
    {
      "cell_type": "markdown",
      "metadata": {
        "id": "PRY8Lsf7WHfK"
      },
      "source": [
        "**Tokenize input sentences**"
      ]
    },
    {
      "cell_type": "code",
      "execution_count": null,
      "metadata": {
        "id": "3Z9SKtlhV51Z"
      },
      "outputs": [],
      "source": [
        "input_tokenizer = Tokenizer(num_words=num_words_input)\n",
        "input_tokenizer.fit_on_texts(input_sentences_train)"
      ]
    },
    {
      "cell_type": "code",
      "execution_count": null,
      "metadata": {
        "colab": {
          "base_uri": "https://localhost:8080/"
        },
        "id": "RNW1pxQmkibe",
        "outputId": "e0c9a9ae-d5f6-4e40-e8f5-3025f37e2a97"
      },
      "outputs": [
        {
          "name": "stdout",
          "output_type": "stream",
          "text": [
            "Total unique words in the input: 24660\n",
            "Length of longest sentence in input: 31\n"
          ]
        }
      ],
      "source": [
        "# input sentences train\n",
        "input_integer_seq_train = input_tokenizer.texts_to_sequences(input_sentences_train)\n",
        "\n",
        "# input sentences validation\n",
        "input_integer_seq_val = input_tokenizer.texts_to_sequences(input_sentences_val)\n",
        "\n",
        "# input sentences test\n",
        "input_integer_seq_test = input_tokenizer.texts_to_sequences(input_sentences_test)\n",
        "\n",
        "\n",
        "word2idx_inputs = input_tokenizer.word_index\n",
        "print('Total unique words in the input: %s' % len(word2idx_inputs))\n",
        "\n",
        "num_words_inputs = len(word2idx_inputs) + 1\n",
        "max_input_len = max(len(sen) for sen in input_integer_seq_train)\n",
        "print(\"Length of longest sentence in input: %g\" % max_input_len)"
      ]
    },
    {
      "cell_type": "markdown",
      "metadata": {
        "id": "lhYoBsZ3W39n"
      },
      "source": [
        "**Tokenize output sentences**"
      ]
    },
    {
      "cell_type": "code",
      "execution_count": null,
      "metadata": {
        "id": "zo-lD-cpXAZn"
      },
      "outputs": [],
      "source": [
        "output_tokenizer = Tokenizer(num_words=num_words_output, filters='')\n",
        "output_tokenizer.fit_on_texts(output_sentences_train + output_sentences_inputs_train)"
      ]
    },
    {
      "cell_type": "code",
      "execution_count": null,
      "metadata": {
        "colab": {
          "base_uri": "https://localhost:8080/"
        },
        "id": "L7bUvWAilCi9",
        "outputId": "3686b223-b670-4f47-c04d-181e26b3b7f9"
      },
      "outputs": [
        {
          "name": "stdout",
          "output_type": "stream",
          "text": [
            "Total unique words in the output: 38\n",
            "Length of longest sentence in the output: 5\n"
          ]
        }
      ],
      "source": [
        "# output sentences train\n",
        "output_input_integer_seq_train = output_tokenizer.texts_to_sequences(output_sentences_inputs_train)\n",
        "output_integer_seq_train = output_tokenizer.texts_to_sequences(output_sentences_train)\n",
        "\n",
        "# output sentences val\n",
        "output_input_integer_seq_val = output_tokenizer.texts_to_sequences(output_sentences_inputs_val)\n",
        "output_integer_seq_val = output_tokenizer.texts_to_sequences(output_sentences_val)\n",
        "\n",
        "# output sentences test\n",
        "output_input_integer_seq_test = output_tokenizer.texts_to_sequences(output_sentences_inputs_test)\n",
        "output_integer_seq_test = output_tokenizer.texts_to_sequences(output_sentences_test)\n",
        "\n",
        "word2idx_outputs = output_tokenizer.word_index\n",
        "print('Total unique words in the output: %s' % len(word2idx_outputs))\n",
        "\n",
        "num_words_output = len(word2idx_outputs) + 1\n",
        "max_out_len = max(len(sen) for sen in output_integer_seq_train)\n",
        "print(\"Length of longest sentence in the output: %g\" % max_out_len)"
      ]
    },
    {
      "cell_type": "markdown",
      "metadata": {
        "id": "ix3bxM56rhtv"
      },
      "source": [
        "### **Padding aux séquences**"
      ]
    },
    {
      "cell_type": "markdown",
      "metadata": {
        "id": "RgJIwG3a_aVE"
      },
      "source": [
        "On ajoute du padding (valeur 0) à chaque phrase (liste d'entiers) afin qu'elles aient la même taille que la plus grande phrase du jeu de données."
      ]
    },
    {
      "cell_type": "markdown",
      "metadata": {
        "id": "SRCOcXXKYMKN"
      },
      "source": [
        "**Encode input sentences**"
      ]
    },
    {
      "cell_type": "code",
      "execution_count": null,
      "metadata": {
        "colab": {
          "base_uri": "https://localhost:8080/"
        },
        "id": "7LT55V14lRtz",
        "outputId": "32647392-c16e-4c2c-d952-14403c19066c"
      },
      "outputs": [
        {
          "name": "stdout",
          "output_type": "stream",
          "text": [
            "encoder_input_sequences.shape: (181763, 31)\n",
            "encoder_input_sequences[17]: [   0    0    0    0    0    0    0    0    0    0    0    0    0    0\n",
            "    0    0    0    0    0    0    0    0    0    0    0    0    0    0\n",
            "  460  644 1555]\n",
            "460 644 1555\n"
          ]
        }
      ],
      "source": [
        "# train data\n",
        "encoder_input_sequences_train = pad_sequences(input_integer_seq_train, maxlen=max_input_len)\n",
        "\n",
        "# val data\n",
        "encoder_input_sequences_val = pad_sequences(input_integer_seq_val, maxlen=max_input_len)\n",
        "\n",
        "# test data\n",
        "encoder_input_sequences_test = pad_sequences(input_integer_seq_test, maxlen=max_input_len)\n",
        "\n",
        "print(\"encoder_input_sequences.shape:\", encoder_input_sequences_train.shape)\n",
        "print(\"encoder_input_sequences[17]:\", encoder_input_sequences_train[17])\n",
        "print(word2idx_inputs[\"douleur\"], word2idx_inputs[\"dentaire\"], word2idx_inputs[\"dents\"])"
      ]
    },
    {
      "cell_type": "markdown",
      "metadata": {
        "id": "Ivim9HGBYP9b"
      },
      "source": [
        "**Decode input sentences**"
      ]
    },
    {
      "cell_type": "code",
      "execution_count": null,
      "metadata": {
        "colab": {
          "base_uri": "https://localhost:8080/"
        },
        "id": "rj916Pxal5Jl",
        "outputId": "468fe8d9-d393-4711-91c2-4f3b088d0635"
      },
      "outputs": [
        {
          "name": "stdout",
          "output_type": "stream",
          "text": [
            "decoder_input_sequences.shape: (181763, 5)\n",
            "decoder_input_sequences[17]: [ 2 19  4  3  3]\n",
            "2 19 4 3 3\n"
          ]
        }
      ],
      "source": [
        "# train data\n",
        "decoder_input_sequences_train = pad_sequences(output_input_integer_seq_train, maxlen=max_out_len, padding='post')\n",
        "\n",
        "# val data\n",
        "decoder_input_sequences_val = pad_sequences(output_input_integer_seq_val, maxlen=max_out_len, padding='post')\n",
        "\n",
        "# test data\n",
        "decoder_input_sequences_test = pad_sequences(output_input_integer_seq_test, maxlen=max_out_len, padding='post')\n",
        "\n",
        "\n",
        "print(\"decoder_input_sequences.shape:\", decoder_input_sequences_train.shape)\n",
        "print(\"decoder_input_sequences[17]:\", decoder_input_sequences_train[17])\n",
        "print(word2idx_outputs[\"<start>\"], word2idx_outputs[\"k\"], word2idx_outputs[\"0\"], word2idx_outputs[\"8\"], word2idx_outputs[\"8\"])"
      ]
    },
    {
      "cell_type": "markdown",
      "metadata": {
        "id": "HSDVGKGcYckM"
      },
      "source": [
        "**Decode output sequences**"
      ]
    },
    {
      "cell_type": "code",
      "execution_count": null,
      "metadata": {
        "colab": {
          "base_uri": "https://localhost:8080/"
        },
        "id": "hML-uFCXmVzn",
        "outputId": "86e920fe-9273-4fd5-b55e-1958edfe7014"
      },
      "outputs": [
        {
          "name": "stdout",
          "output_type": "stream",
          "text": [
            "decoder_output_sequences.shape: (181763, 5)\n",
            "decoder_output_sequences[171]: [19  4  3  3  1]\n",
            "19 4 3 3 1\n"
          ]
        }
      ],
      "source": [
        "# train data\n",
        "decoder_output_sequences_train = pad_sequences(output_integer_seq_train, maxlen=max_out_len, padding='post')\n",
        "\n",
        "# val data\n",
        "decoder_output_sequences_val = pad_sequences(output_integer_seq_val, maxlen=max_out_len, padding='post')\n",
        "\n",
        "# test data\n",
        "decoder_output_sequences_test = pad_sequences(output_integer_seq_test, maxlen=max_out_len, padding='post')\n",
        "\n",
        "\n",
        "print(\"decoder_output_sequences.shape:\", decoder_output_sequences_train.shape)\n",
        "print(\"decoder_output_sequences[171]:\", decoder_output_sequences_train[17])\n",
        "print(word2idx_outputs[\"k\"], word2idx_outputs[\"0\"], word2idx_outputs[\"8\"], word2idx_outputs[\"8\"], word2idx_outputs[\"<end>\"])"
      ]
    },
    {
      "cell_type": "markdown",
      "metadata": {
        "id": "mYeMiNdvXp0h"
      },
      "source": [
        "**Valeur à prédire**"
      ]
    },
    {
      "cell_type": "code",
      "execution_count": null,
      "metadata": {
        "id": "GbXH6-VCuIWx"
      },
      "outputs": [],
      "source": [
        "# train data\n",
        "decoder_targets_one_hot_train = np.zeros((\n",
        "        len(input_sentences_train),\n",
        "        max_out_len,\n",
        "        num_words_output\n",
        "    ),\n",
        "    dtype='float32'\n",
        ")\n",
        "\n",
        "decoder_targets_one_hot_train.shape\n",
        "\n",
        "for i, d in enumerate(decoder_output_sequences_train):\n",
        "    for t, word in enumerate(d):\n",
        "        decoder_targets_one_hot_train[i, t, word] = 1"
      ]
    },
    {
      "cell_type": "code",
      "execution_count": null,
      "metadata": {
        "id": "sUW-7Ea7ZgPN"
      },
      "outputs": [],
      "source": [
        "# val data\n",
        "decoder_targets_one_hot_val = np.zeros((\n",
        "        len(input_sentences_val),\n",
        "        max_out_len,\n",
        "        num_words_output\n",
        "    ),\n",
        "    dtype='float32'\n",
        ")\n",
        "for i, d in enumerate(decoder_output_sequences_val):\n",
        "    for t, word in enumerate(d):\n",
        "        decoder_targets_one_hot_val[i, t, word] = 1"
      ]
    },
    {
      "cell_type": "code",
      "execution_count": null,
      "metadata": {
        "id": "sdI25wEcZgZJ"
      },
      "outputs": [],
      "source": [
        "# test data\n",
        "decoder_targets_one_hot_test = np.zeros((\n",
        "        len(input_sentences_test),\n",
        "        max_out_len,\n",
        "        num_words_output\n",
        "    ),\n",
        "    dtype='float32'\n",
        ")\n",
        "for i, d in enumerate(decoder_output_sequences_test):\n",
        "    for t, word in enumerate(d):\n",
        "        decoder_targets_one_hot_test[i, t, word] = 1"
      ]
    },
    {
      "cell_type": "markdown",
      "metadata": {
        "id": "1az_L2_qTteF"
      },
      "source": [
        "### **Implémentation du modèle**"
      ]
    },
    {
      "cell_type": "markdown",
      "metadata": {
        "id": "funp0Ga_RLpF"
      },
      "source": [
        "**Encodeur**"
      ]
    },
    {
      "cell_type": "code",
      "execution_count": null,
      "metadata": {
        "id": "2cWe3eQ2uwSb"
      },
      "outputs": [],
      "source": [
        "encoder_inputs_placeholder = Input(shape=(max_input_len,))\n",
        "\n",
        "encoder_embedding = Embedding(num_words_inputs, 256)\n",
        "x = encoder_embedding(encoder_inputs_placeholder)\n",
        "encoder = LSTM(256, return_state=True)\n",
        "\n",
        "encoder_outputs, h, c = encoder(x)\n",
        "encoder_states = [h, c]"
      ]
    },
    {
      "cell_type": "markdown",
      "metadata": {
        "id": "ply97ZHdRTiV"
      },
      "source": [
        "**Décodeur**"
      ]
    },
    {
      "cell_type": "code",
      "execution_count": null,
      "metadata": {
        "id": "UvoFrNnZuwY_"
      },
      "outputs": [],
      "source": [
        "decoder_inputs_placeholder = Input(shape=(max_out_len,))\n",
        "\n",
        "decoder_embedding = Embedding(num_words_output, 256)\n",
        "decoder_inputs_x = decoder_embedding(decoder_inputs_placeholder)\n",
        "\n",
        "decoder_lstm = LSTM(256, return_sequences=True, return_state=True)\n",
        "decoder_outputs, _, _ = decoder_lstm(decoder_inputs_x, initial_state=encoder_states)"
      ]
    },
    {
      "cell_type": "markdown",
      "metadata": {
        "id": "aVW7dqIkTdVD"
      },
      "source": [
        "**Décodeur prédiction**"
      ]
    },
    {
      "cell_type": "code",
      "execution_count": null,
      "metadata": {
        "id": "NhHwhceETT8V"
      },
      "outputs": [],
      "source": [
        "decoder_dense = Dense(num_words_output, activation='softmax')\n",
        "decoder_outputs = decoder_dense(decoder_outputs)"
      ]
    },
    {
      "cell_type": "markdown",
      "metadata": {
        "id": "55GL5uKQT6pJ"
      },
      "source": [
        "### **Compilation du modèle**"
      ]
    },
    {
      "cell_type": "code",
      "execution_count": null,
      "metadata": {
        "id": "fG9JGHFrvS8J"
      },
      "outputs": [],
      "source": [
        "model = Model(inputs = [encoder_inputs_placeholder, decoder_inputs_placeholder], \n",
        "              outputs = decoder_outputs\n",
        "              )\n",
        "\n",
        "model.compile(optimizer='adam', loss='categorical_crossentropy', metrics=['accuracy'])"
      ]
    },
    {
      "cell_type": "markdown",
      "metadata": {
        "id": "vCVmlzW2AGJ5"
      },
      "source": [
        "Dans ce modèle, on ne considère pas les prédictions relatives au padding dans la fonction objectif.\n",
        "De même, les métriques ne considèrent pas le padding dans leur estimation. Mais il aurait put être intéressant d'inclure le padding lors de l'évaluation."
      ]
    },
    {
      "cell_type": "code",
      "execution_count": null,
      "metadata": {
        "colab": {
          "base_uri": "https://localhost:8080/"
        },
        "id": "bzSVuD74vTBf",
        "outputId": "cd62fd0b-856f-4bf5-b213-cd08167d7deb"
      },
      "outputs": [
        {
          "name": "stdout",
          "output_type": "stream",
          "text": [
            "Epoch 1/5\n",
            "2841/2841 [==============================] - 104s 34ms/step - loss: 1.1287 - accuracy: 0.6326 - val_loss: 0.7503 - val_accuracy: 0.7623\n",
            "Epoch 2/5\n",
            "2841/2841 [==============================] - 96s 34ms/step - loss: 0.5624 - accuracy: 0.8227 - val_loss: 0.5620 - val_accuracy: 0.8254\n",
            "Epoch 3/5\n",
            "2841/2841 [==============================] - 96s 34ms/step - loss: 0.3813 - accuracy: 0.8789 - val_loss: 0.5010 - val_accuracy: 0.8487\n",
            "Epoch 4/5\n",
            "2841/2841 [==============================] - 96s 34ms/step - loss: 0.2911 - accuracy: 0.9067 - val_loss: 0.4820 - val_accuracy: 0.8582\n",
            "Epoch 5/5\n",
            "2841/2841 [==============================] - 96s 34ms/step - loss: 0.2351 - accuracy: 0.9232 - val_loss: 0.4786 - val_accuracy: 0.8635\n"
          ]
        },
        {
          "data": {
            "text/plain": [
              "<keras.callbacks.History at 0x7fd07a05c450>"
            ]
          },
          "execution_count": 26,
          "metadata": {},
          "output_type": "execute_result"
        }
      ],
      "source": [
        "model.fit(\n",
        "    [encoder_input_sequences_train, decoder_input_sequences_train], decoder_targets_one_hot_train,\n",
        "    batch_size=64,\n",
        "    epochs=5,\n",
        "    validation_data=([encoder_input_sequences_val, decoder_input_sequences_val], decoder_targets_one_hot_val),\n",
        ")"
      ]
    },
    {
      "cell_type": "markdown",
      "metadata": {
        "id": "Ja_U6CR19DYS"
      },
      "source": [
        "L'entrainement du modèle sur le jeu de données de validation montre une accuracy de 86%, ce qui est très bon."
      ]
    },
    {
      "cell_type": "code",
      "execution_count": null,
      "metadata": {
        "colab": {
          "base_uri": "https://localhost:8080/"
        },
        "id": "ODHdcLYG1c5z",
        "outputId": "5a24c27b-720d-4c5e-fac8-24c28953be2b"
      },
      "outputs": [
        {
          "name": "stdout",
          "output_type": "stream",
          "text": [
            "469/469 [==============================] - 5s 11ms/step - loss: 0.4754 - accuracy: 0.8644\n",
            "test loss, test acc: [0.47539907693862915, 0.864359974861145]\n"
          ]
        }
      ],
      "source": [
        "results = model.evaluate([encoder_input_sequences_test, decoder_input_sequences_test], decoder_targets_one_hot_test, batch_size=64)\n",
        "print(\"test loss, test acc:\", results)"
      ]
    },
    {
      "cell_type": "markdown",
      "metadata": {
        "id": "LOqPpvTrFVx1"
      },
      "source": [
        "  L'évaluation du modèle sur le jeu de données de test montre une accuracy de 86%. Le modèle a de bonnes performances"
      ]
    },
    {
      "cell_type": "markdown",
      "metadata": {
        "id": "GSUdeDjXGyE-"
      },
      "source": [
        "### **Enregistrement des poids du modèle**"
      ]
    },
    {
      "cell_type": "code",
      "execution_count": null,
      "metadata": {
        "id": "mP0LvsOoDz7E"
      },
      "outputs": [],
      "source": [
        "checkpoint_path = \"training_1/cp.ckpt\"\n",
        "checkpoint_dir = os.path.dirname(checkpoint_path)\n",
        "\n",
        "# Create a callback that saves the model's weights\n",
        "cp_callback = tf.keras.callbacks.ModelCheckpoint(filepath=checkpoint_path,\n",
        "                                                 save_weights_only=True,\n",
        "                                                 verbose=1)\n",
        "\n",
        "\n",
        "# Save the weights using the `checkpoint_path` format\n",
        "model.save_weights(checkpoint_path.format(epoch=0))"
      ]
    },
    {
      "cell_type": "code",
      "execution_count": null,
      "metadata": {
        "colab": {
          "base_uri": "https://localhost:8080/"
        },
        "id": "OBBEJheuDYnn",
        "outputId": "fac3e12e-8b03-41e6-b9b2-5014942eac87"
      },
      "outputs": [
        {
          "data": {
            "text/plain": [
              "<tensorflow.python.training.tracking.util.CheckpointLoadStatus at 0x7fd04f907850>"
            ]
          },
          "execution_count": 29,
          "metadata": {},
          "output_type": "execute_result"
        }
      ],
      "source": [
        "# Loads the weights\n",
        "model.load_weights(checkpoint_path)"
      ]
    },
    {
      "cell_type": "markdown",
      "metadata": {
        "id": "3SXT-lZJMPdf"
      },
      "source": [
        "## **Partie : 2 Prédictions gloutonnes à partir d’un modèle ajusté**"
      ]
    },
    {
      "cell_type": "code",
      "execution_count": null,
      "metadata": {
        "id": "I0DN8GW1x979"
      },
      "outputs": [],
      "source": [
        "idx2word_target = {v:k for k, v in word2idx_outputs.items()}"
      ]
    },
    {
      "cell_type": "code",
      "execution_count": null,
      "metadata": {
        "id": "9UAVksflyOEa"
      },
      "outputs": [],
      "source": [
        "# function to predict code ICD10\n",
        "# input_seq : input sequence in the encoder, patient symptoms\n",
        "# return code ICD10\n",
        "def predict_sequence(input_seq):\n",
        "\n",
        "    # first word of the output sentence\n",
        "    output_sentence = ['<start>']\n",
        "\n",
        "    # transform each text in texts to a sequence of integers\n",
        "    # padding 0 in the sequence until it has the same length as the longest input sequence in the model\n",
        "    input_in = input_tokenizer.texts_to_sequences([input_seq])\n",
        "    encoder_input_sequence = pad_sequences(input_in, maxlen=max_input_len)\n",
        "\n",
        "    for i in range(max_out_len -1):\n",
        "      # transform each text in texts to a sequence of integers\n",
        "      # padding 0 in the sequence until it has the same length as the longest output sequence in the model\n",
        "      output_in = output_tokenizer.texts_to_sequences(output_sentence)\n",
        "      decoder_input_sequences = pad_sequences(output_in, maxlen=max_out_len, padding='post')\n",
        "\n",
        "      # predict code IDC10 based on the input sentence and the previous output from the decoder\n",
        "      output_tokens = model.predict([encoder_input_sequence, decoder_input_sequences])\n",
        "\n",
        "      # get the word with the highest probability\n",
        "      idx = np.argmax(output_tokens[0, i, :])\n",
        "      word = idx2word_target[idx]\n",
        "\n",
        "      # concanate the predicted word with the previous sentence predicted\n",
        "      output_sentence.append(word) \n",
        "      output_sentence = [' '.join(output_sentence)]\n",
        "\n",
        "    # remove fist element <start>\n",
        "    final_output = ''.join(output_sentence)\n",
        "    final_output = final_output.split()\n",
        "    final_output.pop(0)\n",
        "\n",
        "    return ''.join(final_output).upper()"
      ]
    },
    {
      "cell_type": "code",
      "execution_count": null,
      "metadata": {
        "colab": {
          "base_uri": "https://localhost:8080/"
        },
        "id": "VbEu-kWLyOUM",
        "outputId": "6b46c55e-4cc7-4844-a1e6-9b1a3f254cc9"
      },
      "outputs": [
        {
          "name": "stdout",
          "output_type": "stream",
          "text": [
            "Input: Thrombose veineuse profonde cuisse gauche\n",
            "Output: I802\n"
          ]
        }
      ],
      "source": [
        "# Exemple de la prédiction d'un code ICD10 à partir d'une phrase\n",
        "\n",
        "input_seq = 'Thrombose veineuse profonde cuisse gauche'\n",
        "\n",
        "output_seq = predict_sequence(input_seq)\n",
        "\n",
        "print('Input:', input_seq)\n",
        "print('Output:', output_seq)"
      ]
    },
    {
      "cell_type": "markdown",
      "metadata": {
        "id": "ud44BvZWElJP"
      },
      "source": [
        "### **Prédiction gloutonne sur le jeu de données de validation**"
      ]
    },
    {
      "cell_type": "code",
      "execution_count": null,
      "metadata": {
        "colab": {
          "base_uri": "https://localhost:8080/"
        },
        "id": "VhP6o2BbBEeo",
        "outputId": "6061781a-62bd-4f27-fae3-9920fa68bea4"
      },
      "outputs": [
        {
          "data": {
            "text/plain": [
              "0.5130666666666667"
            ]
          },
          "execution_count": 33,
          "metadata": {},
          "output_type": "execute_result"
        }
      ],
      "source": [
        "y_true = []\n",
        "y_pred = []\n",
        "\n",
        "for i in range(len(val['RawText'])):\n",
        "  input_seq = val['RawText'][i]\n",
        "\n",
        "  expected_seq = val['ICD10'][i].replace(\" \", \"\")\n",
        "  y_true.append(expected_seq)\n",
        "\n",
        "  output_seq = predict_sequence(input_seq)\n",
        "  y_pred.append(output_seq)\n",
        "\n",
        "f1_score(y_true,y_pred, average='weighted')"
      ]
    },
    {
      "cell_type": "markdown",
      "metadata": {
        "id": "XMIpzVhWNKRD"
      },
      "source": [
        "Avec la prédiction gloutonne, on a un f1-score de 51%, ce qui est plus faible que le modèle de classification classique ajusté précédemment. "
      ]
    },
    {
      "cell_type": "markdown",
      "metadata": {
        "id": "KzBCq_7epCWd"
      },
      "source": [
        "# **Exercice 5 :** Pour aller plus loin"
      ]
    },
    {
      "cell_type": "markdown",
      "metadata": {
        "id": "Vu_JgJgm6Hzg"
      },
      "source": [
        "## Point 1"
      ]
    },
    {
      "cell_type": "markdown",
      "metadata": {
        "id": "47qSBa-JhTWT"
      },
      "source": [
        "Dans le but d'améliorer notre modèle, nous allons effectuer un nettoyage de texte, puis réexécuter nos algorithmes et comparer les résultats."
      ]
    },
    {
      "cell_type": "markdown",
      "metadata": {
        "id": "plOx4hJpHHJw"
      },
      "source": [
        "### Install"
      ]
    },
    {
      "cell_type": "code",
      "execution_count": null,
      "metadata": {
        "colab": {
          "base_uri": "https://localhost:8080/"
        },
        "id": "3b2GPrWM7SgI",
        "outputId": "2bfd6259-1e6a-4e7d-fb64-4baf0b5ab1d3"
      },
      "outputs": [
        {
          "name": "stdout",
          "output_type": "stream",
          "text": [
            "[nltk_data] Downloading package stopwords to /root/nltk_data...\n",
            "[nltk_data]   Unzipping corpora/stopwords.zip.\n"
          ]
        },
        {
          "data": {
            "text/plain": [
              "True"
            ]
          },
          "execution_count": 12,
          "metadata": {},
          "output_type": "execute_result"
        }
      ],
      "source": [
        "nltk.download('stopwords')"
      ]
    },
    {
      "cell_type": "code",
      "execution_count": null,
      "metadata": {
        "colab": {
          "base_uri": "https://localhost:8080/"
        },
        "id": "9W4Bl9dkkgpE",
        "outputId": "6eba01f0-4047-40b0-8008-622143336f52"
      },
      "outputs": [
        {
          "name": "stdout",
          "output_type": "stream",
          "text": [
            "Requirement already satisfied: spacy in /usr/local/lib/python3.7/dist-packages (2.2.4)\n",
            "Requirement already satisfied: catalogue<1.1.0,>=0.0.7 in /usr/local/lib/python3.7/dist-packages (from spacy) (1.0.0)\n",
            "Requirement already satisfied: blis<0.5.0,>=0.4.0 in /usr/local/lib/python3.7/dist-packages (from spacy) (0.4.1)\n",
            "Requirement already satisfied: murmurhash<1.1.0,>=0.28.0 in /usr/local/lib/python3.7/dist-packages (from spacy) (1.0.6)\n",
            "Requirement already satisfied: preshed<3.1.0,>=3.0.2 in /usr/local/lib/python3.7/dist-packages (from spacy) (3.0.6)\n",
            "Requirement already satisfied: srsly<1.1.0,>=1.0.2 in /usr/local/lib/python3.7/dist-packages (from spacy) (1.0.5)\n",
            "Requirement already satisfied: setuptools in /usr/local/lib/python3.7/dist-packages (from spacy) (57.4.0)\n",
            "Requirement already satisfied: thinc==7.4.0 in /usr/local/lib/python3.7/dist-packages (from spacy) (7.4.0)\n",
            "Requirement already satisfied: cymem<2.1.0,>=2.0.2 in /usr/local/lib/python3.7/dist-packages (from spacy) (2.0.6)\n",
            "Requirement already satisfied: tqdm<5.0.0,>=4.38.0 in /usr/local/lib/python3.7/dist-packages (from spacy) (4.62.3)\n",
            "Requirement already satisfied: numpy>=1.15.0 in /usr/local/lib/python3.7/dist-packages (from spacy) (1.19.5)\n",
            "Requirement already satisfied: wasabi<1.1.0,>=0.4.0 in /usr/local/lib/python3.7/dist-packages (from spacy) (0.8.2)\n",
            "Requirement already satisfied: plac<1.2.0,>=0.9.6 in /usr/local/lib/python3.7/dist-packages (from spacy) (1.1.3)\n",
            "Requirement already satisfied: requests<3.0.0,>=2.13.0 in /usr/local/lib/python3.7/dist-packages (from spacy) (2.23.0)\n",
            "Requirement already satisfied: importlib-metadata>=0.20 in /usr/local/lib/python3.7/dist-packages (from catalogue<1.1.0,>=0.0.7->spacy) (4.8.2)\n",
            "Requirement already satisfied: typing-extensions>=3.6.4 in /usr/local/lib/python3.7/dist-packages (from importlib-metadata>=0.20->catalogue<1.1.0,>=0.0.7->spacy) (3.10.0.2)\n",
            "Requirement already satisfied: zipp>=0.5 in /usr/local/lib/python3.7/dist-packages (from importlib-metadata>=0.20->catalogue<1.1.0,>=0.0.7->spacy) (3.6.0)\n",
            "Requirement already satisfied: urllib3!=1.25.0,!=1.25.1,<1.26,>=1.21.1 in /usr/local/lib/python3.7/dist-packages (from requests<3.0.0,>=2.13.0->spacy) (1.24.3)\n",
            "Requirement already satisfied: certifi>=2017.4.17 in /usr/local/lib/python3.7/dist-packages (from requests<3.0.0,>=2.13.0->spacy) (2021.10.8)\n",
            "Requirement already satisfied: idna<3,>=2.5 in /usr/local/lib/python3.7/dist-packages (from requests<3.0.0,>=2.13.0->spacy) (2.10)\n",
            "Requirement already satisfied: chardet<4,>=3.0.2 in /usr/local/lib/python3.7/dist-packages (from requests<3.0.0,>=2.13.0->spacy) (3.0.4)\n"
          ]
        }
      ],
      "source": [
        "!pip install spacy"
      ]
    },
    {
      "cell_type": "code",
      "execution_count": null,
      "metadata": {
        "colab": {
          "base_uri": "https://localhost:8080/"
        },
        "id": "9CYaieQayyIY",
        "outputId": "ce857aa3-3c33-4b6f-9cc5-bf797acadf47"
      },
      "outputs": [
        {
          "name": "stdout",
          "output_type": "stream",
          "text": [
            "Collecting fr_core_news_sm==2.2.5\n",
            "  Downloading https://github.com/explosion/spacy-models/releases/download/fr_core_news_sm-2.2.5/fr_core_news_sm-2.2.5.tar.gz (14.7 MB)\n",
            "\u001b[K     |████████████████████████████████| 14.7 MB 5.2 MB/s \n",
            "\u001b[?25hRequirement already satisfied: spacy>=2.2.2 in /usr/local/lib/python3.7/dist-packages (from fr_core_news_sm==2.2.5) (2.2.4)\n",
            "Requirement already satisfied: setuptools in /usr/local/lib/python3.7/dist-packages (from spacy>=2.2.2->fr_core_news_sm==2.2.5) (57.4.0)\n",
            "Requirement already satisfied: numpy>=1.15.0 in /usr/local/lib/python3.7/dist-packages (from spacy>=2.2.2->fr_core_news_sm==2.2.5) (1.19.5)\n",
            "Requirement already satisfied: plac<1.2.0,>=0.9.6 in /usr/local/lib/python3.7/dist-packages (from spacy>=2.2.2->fr_core_news_sm==2.2.5) (1.1.3)\n",
            "Requirement already satisfied: thinc==7.4.0 in /usr/local/lib/python3.7/dist-packages (from spacy>=2.2.2->fr_core_news_sm==2.2.5) (7.4.0)\n",
            "Requirement already satisfied: tqdm<5.0.0,>=4.38.0 in /usr/local/lib/python3.7/dist-packages (from spacy>=2.2.2->fr_core_news_sm==2.2.5) (4.62.3)\n",
            "Requirement already satisfied: srsly<1.1.0,>=1.0.2 in /usr/local/lib/python3.7/dist-packages (from spacy>=2.2.2->fr_core_news_sm==2.2.5) (1.0.5)\n",
            "Requirement already satisfied: blis<0.5.0,>=0.4.0 in /usr/local/lib/python3.7/dist-packages (from spacy>=2.2.2->fr_core_news_sm==2.2.5) (0.4.1)\n",
            "Requirement already satisfied: requests<3.0.0,>=2.13.0 in /usr/local/lib/python3.7/dist-packages (from spacy>=2.2.2->fr_core_news_sm==2.2.5) (2.23.0)\n",
            "Requirement already satisfied: murmurhash<1.1.0,>=0.28.0 in /usr/local/lib/python3.7/dist-packages (from spacy>=2.2.2->fr_core_news_sm==2.2.5) (1.0.6)\n",
            "Requirement already satisfied: cymem<2.1.0,>=2.0.2 in /usr/local/lib/python3.7/dist-packages (from spacy>=2.2.2->fr_core_news_sm==2.2.5) (2.0.6)\n",
            "Requirement already satisfied: preshed<3.1.0,>=3.0.2 in /usr/local/lib/python3.7/dist-packages (from spacy>=2.2.2->fr_core_news_sm==2.2.5) (3.0.6)\n",
            "Requirement already satisfied: catalogue<1.1.0,>=0.0.7 in /usr/local/lib/python3.7/dist-packages (from spacy>=2.2.2->fr_core_news_sm==2.2.5) (1.0.0)\n",
            "Requirement already satisfied: wasabi<1.1.0,>=0.4.0 in /usr/local/lib/python3.7/dist-packages (from spacy>=2.2.2->fr_core_news_sm==2.2.5) (0.8.2)\n",
            "Requirement already satisfied: importlib-metadata>=0.20 in /usr/local/lib/python3.7/dist-packages (from catalogue<1.1.0,>=0.0.7->spacy>=2.2.2->fr_core_news_sm==2.2.5) (4.8.2)\n",
            "Requirement already satisfied: typing-extensions>=3.6.4 in /usr/local/lib/python3.7/dist-packages (from importlib-metadata>=0.20->catalogue<1.1.0,>=0.0.7->spacy>=2.2.2->fr_core_news_sm==2.2.5) (3.10.0.2)\n",
            "Requirement already satisfied: zipp>=0.5 in /usr/local/lib/python3.7/dist-packages (from importlib-metadata>=0.20->catalogue<1.1.0,>=0.0.7->spacy>=2.2.2->fr_core_news_sm==2.2.5) (3.6.0)\n",
            "Requirement already satisfied: chardet<4,>=3.0.2 in /usr/local/lib/python3.7/dist-packages (from requests<3.0.0,>=2.13.0->spacy>=2.2.2->fr_core_news_sm==2.2.5) (3.0.4)\n",
            "Requirement already satisfied: certifi>=2017.4.17 in /usr/local/lib/python3.7/dist-packages (from requests<3.0.0,>=2.13.0->spacy>=2.2.2->fr_core_news_sm==2.2.5) (2021.10.8)\n",
            "Requirement already satisfied: urllib3!=1.25.0,!=1.25.1,<1.26,>=1.21.1 in /usr/local/lib/python3.7/dist-packages (from requests<3.0.0,>=2.13.0->spacy>=2.2.2->fr_core_news_sm==2.2.5) (1.24.3)\n",
            "Requirement already satisfied: idna<3,>=2.5 in /usr/local/lib/python3.7/dist-packages (from requests<3.0.0,>=2.13.0->spacy>=2.2.2->fr_core_news_sm==2.2.5) (2.10)\n",
            "\u001b[38;5;2m✔ Download and installation successful\u001b[0m\n",
            "You can now load the model via spacy.load('fr_core_news_sm')\n"
          ]
        }
      ],
      "source": [
        "!python -m spacy download fr_core_news_sm"
      ]
    },
    {
      "cell_type": "code",
      "execution_count": null,
      "metadata": {
        "colab": {
          "base_uri": "https://localhost:8080/"
        },
        "id": "uHfgNHdlzfvW",
        "outputId": "edf2a465-0cea-457b-cdaa-8615a45d063e"
      },
      "outputs": [
        {
          "name": "stdout",
          "output_type": "stream",
          "text": [
            "Collecting fr_core_news_sm==2.2.5\n",
            "  Downloading https://github.com/explosion/spacy-models/releases/download/fr_core_news_sm-2.2.5/fr_core_news_sm-2.2.5.tar.gz (14.7 MB)\n",
            "\u001b[K     |████████████████████████████████| 14.7 MB 5.0 MB/s \n",
            "\u001b[?25hRequirement already satisfied: spacy>=2.2.2 in /usr/local/lib/python3.7/dist-packages (from fr_core_news_sm==2.2.5) (2.2.4)\n",
            "Requirement already satisfied: catalogue<1.1.0,>=0.0.7 in /usr/local/lib/python3.7/dist-packages (from spacy>=2.2.2->fr_core_news_sm==2.2.5) (1.0.0)\n",
            "Requirement already satisfied: requests<3.0.0,>=2.13.0 in /usr/local/lib/python3.7/dist-packages (from spacy>=2.2.2->fr_core_news_sm==2.2.5) (2.23.0)\n",
            "Requirement already satisfied: blis<0.5.0,>=0.4.0 in /usr/local/lib/python3.7/dist-packages (from spacy>=2.2.2->fr_core_news_sm==2.2.5) (0.4.1)\n",
            "Requirement already satisfied: wasabi<1.1.0,>=0.4.0 in /usr/local/lib/python3.7/dist-packages (from spacy>=2.2.2->fr_core_news_sm==2.2.5) (0.8.2)\n",
            "Requirement already satisfied: murmurhash<1.1.0,>=0.28.0 in /usr/local/lib/python3.7/dist-packages (from spacy>=2.2.2->fr_core_news_sm==2.2.5) (1.0.6)\n",
            "Requirement already satisfied: setuptools in /usr/local/lib/python3.7/dist-packages (from spacy>=2.2.2->fr_core_news_sm==2.2.5) (57.4.0)\n",
            "Requirement already satisfied: thinc==7.4.0 in /usr/local/lib/python3.7/dist-packages (from spacy>=2.2.2->fr_core_news_sm==2.2.5) (7.4.0)\n",
            "Requirement already satisfied: tqdm<5.0.0,>=4.38.0 in /usr/local/lib/python3.7/dist-packages (from spacy>=2.2.2->fr_core_news_sm==2.2.5) (4.62.3)\n",
            "Requirement already satisfied: cymem<2.1.0,>=2.0.2 in /usr/local/lib/python3.7/dist-packages (from spacy>=2.2.2->fr_core_news_sm==2.2.5) (2.0.6)\n",
            "Requirement already satisfied: srsly<1.1.0,>=1.0.2 in /usr/local/lib/python3.7/dist-packages (from spacy>=2.2.2->fr_core_news_sm==2.2.5) (1.0.5)\n",
            "Requirement already satisfied: plac<1.2.0,>=0.9.6 in /usr/local/lib/python3.7/dist-packages (from spacy>=2.2.2->fr_core_news_sm==2.2.5) (1.1.3)\n",
            "Requirement already satisfied: preshed<3.1.0,>=3.0.2 in /usr/local/lib/python3.7/dist-packages (from spacy>=2.2.2->fr_core_news_sm==2.2.5) (3.0.6)\n",
            "Requirement already satisfied: numpy>=1.15.0 in /usr/local/lib/python3.7/dist-packages (from spacy>=2.2.2->fr_core_news_sm==2.2.5) (1.19.5)\n",
            "Requirement already satisfied: importlib-metadata>=0.20 in /usr/local/lib/python3.7/dist-packages (from catalogue<1.1.0,>=0.0.7->spacy>=2.2.2->fr_core_news_sm==2.2.5) (4.8.2)\n",
            "Requirement already satisfied: zipp>=0.5 in /usr/local/lib/python3.7/dist-packages (from importlib-metadata>=0.20->catalogue<1.1.0,>=0.0.7->spacy>=2.2.2->fr_core_news_sm==2.2.5) (3.6.0)\n",
            "Requirement already satisfied: typing-extensions>=3.6.4 in /usr/local/lib/python3.7/dist-packages (from importlib-metadata>=0.20->catalogue<1.1.0,>=0.0.7->spacy>=2.2.2->fr_core_news_sm==2.2.5) (3.10.0.2)\n",
            "Requirement already satisfied: idna<3,>=2.5 in /usr/local/lib/python3.7/dist-packages (from requests<3.0.0,>=2.13.0->spacy>=2.2.2->fr_core_news_sm==2.2.5) (2.10)\n",
            "Requirement already satisfied: urllib3!=1.25.0,!=1.25.1,<1.26,>=1.21.1 in /usr/local/lib/python3.7/dist-packages (from requests<3.0.0,>=2.13.0->spacy>=2.2.2->fr_core_news_sm==2.2.5) (1.24.3)\n",
            "Requirement already satisfied: chardet<4,>=3.0.2 in /usr/local/lib/python3.7/dist-packages (from requests<3.0.0,>=2.13.0->spacy>=2.2.2->fr_core_news_sm==2.2.5) (3.0.4)\n",
            "Requirement already satisfied: certifi>=2017.4.17 in /usr/local/lib/python3.7/dist-packages (from requests<3.0.0,>=2.13.0->spacy>=2.2.2->fr_core_news_sm==2.2.5) (2021.10.8)\n",
            "\u001b[38;5;2m✔ Download and installation successful\u001b[0m\n",
            "You can now load the model via spacy.load('fr_core_news_sm')\n"
          ]
        }
      ],
      "source": [
        "!spacy download fr_core_news_sm"
      ]
    },
    {
      "cell_type": "markdown",
      "metadata": {
        "id": "1M9FaHf6G5Hn"
      },
      "source": [
        "### Nettoyage du texte"
      ]
    },
    {
      "cell_type": "code",
      "execution_count": null,
      "metadata": {
        "id": "P3-D_mnwkgyM"
      },
      "outputs": [],
      "source": [
        "import re\n",
        "from nltk.corpus import stopwords\n",
        "\n",
        "import spacy\n",
        "import fr_core_news_sm\n",
        "\n",
        "from nltk.stem.snowball import SnowballStemmer"
      ]
    },
    {
      "cell_type": "code",
      "execution_count": null,
      "metadata": {
        "id": "g_28p-hLmW_m"
      },
      "outputs": [],
      "source": [
        "nlp = spacy.load(\"fr_core_news_sm\")"
      ]
    },
    {
      "cell_type": "code",
      "execution_count": null,
      "metadata": {
        "colab": {
          "base_uri": "https://localhost:8080/"
        },
        "id": "Mm3ze9PbmjHz",
        "outputId": "34e42f72-ac01-4126-c77b-ebc8f6e785f1"
      },
      "outputs": [
        {
          "name": "stdout",
          "output_type": "stream",
          "text": [
            "[nltk_data] Downloading package stopwords to /root/nltk_data...\n",
            "[nltk_data]   Unzipping corpora/stopwords.zip.\n"
          ]
        },
        {
          "data": {
            "text/plain": [
              "True"
            ]
          },
          "execution_count": 6,
          "metadata": {},
          "output_type": "execute_result"
        }
      ],
      "source": [
        "nltk.download('stopwords')"
      ]
    },
    {
      "cell_type": "code",
      "execution_count": null,
      "metadata": {
        "id": "4DEXq9886HJA"
      },
      "outputs": [],
      "source": [
        "stop_words = stopwords.words('french')\n",
        "\n",
        "def clean_text(\n",
        "    string: str,\n",
        "    punctuations=r'''!()-[]{};:'\"\\,<>./?@#$%^&*_~''',\n",
        "    stop_words=stop_words) -> str:\n",
        "    \"\"\"\n",
        "    A method to clean text - preprocessing\n",
        "    \"\"\"\n",
        "    #Cleaning the urls\n",
        "    string = re.sub(r'https?://\\S+|www\\.\\S+','',string)\n",
        "\n",
        "    #Cleaning the html elements\n",
        "    string = re.sub(r'<.*?>','',string)\n",
        "\n",
        "    #Cleaning numbers\n",
        "    #string = re.sub(r'[0-9]+','',string)\n",
        "\n",
        "    #Removing the punctuations\n",
        "    for x in string.lower():\n",
        "      if x in punctuations:\n",
        "        string = string.replace(x,\"\")\n",
        "    \n",
        "    #Converting to the text to lower\n",
        "    string = string.lower()\n",
        "\n",
        "    #Removing stop words\n",
        "    string = ' '.join([word for word in string.split() if word not in stop_words])\n",
        "    \n",
        "    #Cleaning the whitespaces\n",
        "    string = re.sub(r'\\s+', ' ', string).strip()\n",
        "\n",
        "    #Lemmatization\n",
        "    stemmer = SnowballStemmer(language='french')\n",
        "    doc = nlp(string)\n",
        "    string_final = ' '.join([stemmer.stem(token.text) for token in doc])\n",
        "  \n",
        "    return string_final"
      ]
    },
    {
      "cell_type": "code",
      "execution_count": null,
      "metadata": {
        "id": "OovDz9NjgbO9"
      },
      "outputs": [],
      "source": [
        "df_list=[clean_text(x) for x in df_train['RawText'].astype(str)]\n",
        "df_train = pd.DataFrame(list(zip(df_list, list(df_train['ICD10']))), columns =['RawText', 'ICD10'])"
      ]
    },
    {
      "cell_type": "code",
      "execution_count": null,
      "metadata": {
        "id": "oCYO8cJamn2J"
      },
      "outputs": [],
      "source": [
        "df_list=[clean_text(x) for x in df_test['RawText'].astype(str)]\n",
        "df_test = pd.DataFrame(list(zip(df_list, list(df_test['ICD10']))), columns =['RawText', 'ICD10'])\n"
      ]
    },
    {
      "cell_type": "code",
      "execution_count": null,
      "metadata": {
        "id": "r-1JjuwtrswC"
      },
      "outputs": [],
      "source": [
        "df_list=[clean_text(x) for x in df_val['RawText'].astype(str)]\n",
        "df_val = pd.DataFrame(list(zip(df_list, list(df_val['ICD10']))), columns =['RawText', 'ICD10'])"
      ]
    },
    {
      "cell_type": "markdown",
      "metadata": {
        "id": "ig-U_14tDXF5"
      },
      "source": [
        "### Classification du premier caractère du code CIM-10 à partir du langage naturel"
      ]
    },
    {
      "cell_type": "code",
      "execution_count": null,
      "metadata": {
        "id": "01ovzqayDCks"
      },
      "outputs": [],
      "source": [
        "df_train['ICD10_1_Carac']=df_train['ICD10'].apply(lambda x: x[0])\n",
        "df_test['ICD10_1_Carac']=df_test['ICD10'].apply(lambda x: x[0])\n",
        "df_val['ICD10_1_Carac']=df_val['ICD10'].apply(lambda x: x[0])\n",
        "\n",
        "df_train['ICD10_1_Carac']=preprocessing.LabelEncoder().fit_transform(df_train.ICD10_1_Carac.values)\n",
        "df_test['ICD10_1_Carac']=preprocessing.LabelEncoder().fit_transform(df_test.ICD10_1_Carac.values)\n",
        "df_val['ICD10_1_Carac']=preprocessing.LabelEncoder().fit_transform(df_val.ICD10_1_Carac.values)"
      ]
    },
    {
      "cell_type": "code",
      "execution_count": null,
      "metadata": {
        "colab": {
          "base_uri": "https://localhost:8080/"
        },
        "id": "qwhQRplKDJSa",
        "outputId": "f49a139e-b5ac-40aa-d9fd-3f86fc167728"
      },
      "outputs": [
        {
          "name": "stdout",
          "output_type": "stream",
          "text": [
            "----- Entrainement du modèle -----\n",
            "Epoch 1/5\n",
            "5681/5681 [==============================] - 97s 16ms/step - loss: 1.2264 - accuracy: 0.6675 - val_loss: 0.7446 - val_accuracy: 0.7912\n",
            "Epoch 2/5\n",
            "5681/5681 [==============================] - 93s 16ms/step - loss: 0.6048 - accuracy: 0.8260 - val_loss: 0.6154 - val_accuracy: 0.8204\n",
            "Epoch 3/5\n",
            "5681/5681 [==============================] - 90s 16ms/step - loss: 0.4728 - accuracy: 0.8555 - val_loss: 0.5845 - val_accuracy: 0.8229\n",
            "Epoch 4/5\n",
            "5681/5681 [==============================] - 86s 15ms/step - loss: 0.4132 - accuracy: 0.8668 - val_loss: 0.5640 - val_accuracy: 0.8284\n",
            "Epoch 5/5\n",
            "5681/5681 [==============================] - 91s 16ms/step - loss: 0.3781 - accuracy: 0.8749 - val_loss: 0.5588 - val_accuracy: 0.8293\n",
            "----- Evaluation du modele : accuracy -----\n",
            "938/938 [==============================] - 6s 7ms/step - loss: 0.5544 - accuracy: 0.8304\n",
            "----- Evaluation du modele : recall -----\n",
            "938/938 [==============================] - 6s 7ms/step - loss: 0.5544 - accuracy: 0.8304\n"
          ]
        },
        {
          "data": {
            "text/plain": [
              "[0.5544145703315735, 0.8304333090782166]"
            ]
          },
          "execution_count": 14,
          "metadata": {},
          "output_type": "execute_result"
        }
      ],
      "source": [
        "vectorize_layer = tf.keras.layers.TextVectorization(max_tokens=28970, output_mode='int')\n",
        "\n",
        "vectorize_layer.adapt(df_train[\"RawText\"])\n",
        "\n",
        "#Construction de notre réseau de neuronne \n",
        "model = tf.keras.models.Sequential()\n",
        "\n",
        "model.add(tf.keras.Input(shape=(1,), dtype=tf.string))\n",
        "model.add(vectorize_layer)\n",
        "model.add(tf.keras.layers.Embedding(28970, output_dim=32, mask_zero=True))\n",
        "model.add(tf.keras.layers.LSTM(32, dropout=0.1))\n",
        "model.add( tf.keras.layers.Dense(26,activation='softmax'))\n",
        "\n",
        "model.compile(optimizer='adam', loss='sparse_categorical_crossentropy', metrics=['accuracy'])\n",
        "\n",
        "print(\"----- Entrainement du modèle -----\")\n",
        "model.fit(x=df_train[\"RawText\"],y= df_train['ICD10_1_Carac'], epochs=5, validation_data=(df_val['RawText'], df_val['ICD10_1_Carac']))\n",
        "\n",
        "print(\"----- Evaluation du modele : accuracy -----\")\n",
        "model.evaluate(df_test['RawText'],df_test['ICD10_1_Carac'])\n",
        "\n",
        "print(\"----- Evaluation du modele : recall -----\")\n",
        "model.evaluate(df_test['RawText'],df_test['ICD10_1_Carac'])"
      ]
    },
    {
      "cell_type": "code",
      "execution_count": null,
      "metadata": {
        "colab": {
          "base_uri": "https://localhost:8080/"
        },
        "id": "D7G2GLX2unmX",
        "outputId": "49f70055-bfe6-4a9e-dacf-d3ae6aaffc14"
      },
      "outputs": [
        {
          "name": "stdout",
          "output_type": "stream",
          "text": [
            "\n",
            "----- Evaluation du modele : f1-Score  -----\n"
          ]
        },
        {
          "data": {
            "text/plain": [
              "0.8309936201163005"
            ]
          },
          "execution_count": 15,
          "metadata": {},
          "output_type": "execute_result"
        }
      ],
      "source": [
        "yhat_probs = model.predict(df_test['RawText'], verbose=0)\n",
        "y_pred = np.argmax(yhat_probs,axis=1)\n",
        "\n",
        "print(\"\\n----- Evaluation du modele : f1-Score  -----\")\n",
        "f1_score(df_test['ICD10_1_Carac'].to_numpy(), y_pred, average='weighted')"
      ]
    },
    {
      "cell_type": "markdown",
      "metadata": {
        "id": "X-NX6t-UxwBe"
      },
      "source": [
        "Nous constatons, que malgré notre amélioration de la méthode de nettoyage du texte, nous n'avons pas forcément obtenu de meilleurs résultats."
      ]
    },
    {
      "cell_type": "markdown",
      "metadata": {
        "id": "KHGF1W7mGV4o"
      },
      "source": [
        "### Classification du code CIM-10 entier à partir du langage naturel"
      ]
    },
    {
      "cell_type": "code",
      "execution_count": null,
      "metadata": {
        "id": "yLC-NNY3GXTA"
      },
      "outputs": [],
      "source": [
        "df_train = pd.read_csv(\"train.csv\")\n",
        "df_test = pd.read_csv(\"test.csv\")\n",
        "df_val = pd.read_csv(\"val.csv\")\n",
        "\n",
        "df_labels=pd.concat([df_train['ICD10'], df_test['ICD10'],df_val['ICD10']])\n",
        "labels=preprocessing.LabelEncoder().fit_transform(df_labels)\n",
        "\n",
        "y_train = labels[:181763]\n",
        "y_test = labels[181763:211763]\n",
        "y_val = labels[211763:241763]"
      ]
    },
    {
      "cell_type": "code",
      "execution_count": null,
      "metadata": {
        "colab": {
          "base_uri": "https://localhost:8080/"
        },
        "id": "CIw0PL6qhGvs",
        "outputId": "6349d59a-2c0f-4542-a66b-03a83dfd82d9"
      },
      "outputs": [
        {
          "name": "stdout",
          "output_type": "stream",
          "text": [
            "----- Entrainement du modèle -----\n",
            "Epoch 1/8\n",
            "5681/5681 [==============================] - 173s 29ms/step - loss: 6.8534 - accuracy: 0.0722\n",
            "Epoch 2/8\n",
            "5681/5681 [==============================] - 154s 27ms/step - loss: 4.1446 - accuracy: 0.2951\n",
            "Epoch 3/8\n",
            "5681/5681 [==============================] - 148s 26ms/step - loss: 2.7732 - accuracy: 0.4652\n",
            "Epoch 4/8\n",
            "5681/5681 [==============================] - 164s 29ms/step - loss: 2.0255 - accuracy: 0.5791\n",
            "Epoch 5/8\n",
            "5681/5681 [==============================] - 147s 26ms/step - loss: 1.5645 - accuracy: 0.6559\n",
            "Epoch 6/8\n",
            "5681/5681 [==============================] - 153s 27ms/step - loss: 1.2563 - accuracy: 0.7093\n",
            "Epoch 7/8\n",
            "5681/5681 [==============================] - 146s 26ms/step - loss: 1.0460 - accuracy: 0.7469\n",
            "Epoch 8/8\n",
            "5681/5681 [==============================] - 143s 25ms/step - loss: 0.8948 - accuracy: 0.7744\n",
            "\n",
            "----- Evaluation du modele : f1-Score  -----\n"
          ]
        },
        {
          "data": {
            "text/plain": [
              "0.5845924508323891"
            ]
          },
          "execution_count": 17,
          "metadata": {},
          "output_type": "execute_result"
        }
      ],
      "source": [
        "vectorize_layer = tf.keras.layers.TextVectorization(max_tokens=36326, output_mode='int')\n",
        "\n",
        "vectorize_layer.adapt(df_train[\"RawText\"])\n",
        "\n",
        "model = tf.keras.models.Sequential()\n",
        "model.add(tf.keras.Input(shape=(1,), dtype=tf.string))\n",
        "model.add(vectorize_layer)\n",
        "model.add(tf.keras.layers.Embedding(input_dim=36326, output_dim = 32, mask_zero=True))\n",
        "model.add(tf.keras.layers.Bidirectional(tf.keras.layers.LSTM(64)))\n",
        "model.add(tf.keras.layers.Dense(9541, activation=\"softmax\"))\n",
        "\n",
        "model.compile(optimizer='adam', loss='sparse_categorical_crossentropy', metrics=['accuracy'])\n",
        "\n",
        "print(\"----- Entrainement du modèle -----\")\n",
        "model.fit(x=df_train[\"RawText\"],y= y_train, epochs=8)\n",
        "\n",
        "yhat_probs = model.predict(df_test['RawText'], verbose=0)\n",
        "y_pred = np.argmax(yhat_probs,axis=1)\n",
        "\n",
        "print(\"\\n----- Evaluation du modele : f1-Score  -----\")\n",
        "f1_score(y_test, y_pred, average='weighted')"
      ]
    },
    {
      "cell_type": "markdown",
      "metadata": {
        "id": "_j8w0-yL25cQ"
      },
      "source": [
        "Pareil ici, nous constatons que malgré notre amélioration de la méthode de nettoyage du texte, nous n'avons pas forcément obtenu de meilleurs résultats."
      ]
    },
    {
      "cell_type": "markdown",
      "metadata": {
        "id": "ihwYOlzIpEoe"
      },
      "source": [
        "## Point 2"
      ]
    },
    {
      "cell_type": "markdown",
      "metadata": {
        "id": "WchGbtrSwDaq"
      },
      "source": [
        "### Initialisation du tokenizer. Création du vocabulaire à partir des données d'entrainement"
      ]
    },
    {
      "cell_type": "code",
      "execution_count": null,
      "metadata": {
        "id": "Z8iga70dpPc0"
      },
      "outputs": [],
      "source": [
        "tokenizer = tfds.deprecated.text.SubwordTextEncoder.build_from_corpus(df_train.RawText, target_vocab_size=2**13)"
      ]
    },
    {
      "cell_type": "code",
      "execution_count": null,
      "metadata": {
        "colab": {
          "base_uri": "https://localhost:8080/"
        },
        "id": "7pmn8xqtpHE1",
        "outputId": "37c61a26-e4eb-4007-da63-1facc0cf4ca6"
      },
      "outputs": [
        {
          "name": "stdout",
          "output_type": "stream",
          "text": [
            "bronchopneumo fulminante enterobacter\n",
            "[1911, 100, 7933, 4860, 3667]\n"
          ]
        }
      ],
      "source": [
        "print(\"bronchopneumo fulminante enterobacter\")\n",
        "test_tokens = tokenizer.encode(\"pneumocardio fulminante enterobacter\")\n",
        "print(test_tokens)"
      ]
    },
    {
      "cell_type": "code",
      "execution_count": null,
      "metadata": {
        "colab": {
          "base_uri": "https://localhost:8080/"
        },
        "id": "52ydXN0ExD8g",
        "outputId": "9ac5ac27-6b29-459e-ef03-0e1d5f8f353a"
      },
      "outputs": [
        {
          "name": "stdout",
          "output_type": "stream",
          "text": [
            "pneumo\n",
            "cardio\n",
            " \n",
            "fulminante \n",
            "enterobacter\n"
          ]
        }
      ],
      "source": [
        "for token in test_tokens:\n",
        "  print(tokenizer.decode([token]))"
      ]
    },
    {
      "cell_type": "markdown",
      "metadata": {
        "id": "c4R_Fqxhw3Eg"
      },
      "source": [
        "On voit que le tokenizer arrive à decomposer \"pneumocardio\" en deux sous-mots \"pneumo\" et \"cardio\""
      ]
    },
    {
      "cell_type": "code",
      "execution_count": null,
      "metadata": {
        "id": "L2Zt5wBEqlmU"
      },
      "outputs": [],
      "source": [
        "# Transforme une liste de strings en liste de vecteurs\n",
        "def tokenize(tokenizer, data):\n",
        "  tokenized_data = []\n",
        "  for row in data:\n",
        "    tokenized_data.append(tokenizer.encode(row))\n",
        "  return tokenized_data\n",
        "\n",
        "# Transforme une liste de vecteurs en liste de strings \n",
        "def detokenize(tokenizer, tokenized_data):\n",
        "  data = []\n",
        "  for row in tokenized_data:\n",
        "    data.append(tokenizer.decode(row))\n",
        "  return data"
      ]
    },
    {
      "cell_type": "code",
      "execution_count": null,
      "metadata": {
        "colab": {
          "base_uri": "https://localhost:8080/"
        },
        "id": "OFNFNx4urYKH",
        "outputId": "2c400a32-1de1-4b0f-9252-8648d4389839"
      },
      "outputs": [
        {
          "name": "stdout",
          "output_type": "stream",
          "text": [
            "[[40, 203, 674, 354, 5], [741, 16, 7946, 136], [1955, 1958, 7, 3850, 2446]]\n",
            "['thrombose veineuse profonde cuisse gauche', 'hémiplégie post-traumatique', 'masculinisation avec hyperplasie surrénale']\n"
          ]
        }
      ],
      "source": [
        "# Test des methodes avec les 3 premières lignes des données d'entrainement\n",
        "\n",
        "tokenized_data = tokenize(tokenizer, df_train['RawText'][:3].values.tolist())\n",
        "print(tokenized_data)\n",
        "detokenized_data = detokenize(tokenizer, tokenized_data)\n",
        "print(detokenized_data)"
      ]
    },
    {
      "cell_type": "markdown",
      "metadata": {
        "id": "K9eZ7XiRHP4L"
      },
      "source": [
        "### Tokenisation des différents jeux de données"
      ]
    },
    {
      "cell_type": "code",
      "execution_count": null,
      "metadata": {
        "id": "oNtHhIl0HP4N"
      },
      "outputs": [],
      "source": [
        "train_data = tokenize(tokenizer, df_train['RawText'].values.tolist())\n",
        "test_data = tokenize(tokenizer, df_test['RawText'].values.tolist())\n",
        "vzl_data = tokenize(tokenizer, df_val['RawText'].values.tolist())"
      ]
    },
    {
      "cell_type": "markdown",
      "metadata": {
        "id": "8_DP1SBcHP4Q"
      },
      "source": [
        "On ajoute un padding pour que tous les datasets aient les mêmes dimensions afin de pouvoir utiliser les modèles de keras"
      ]
    },
    {
      "cell_type": "code",
      "execution_count": null,
      "metadata": {
        "id": "IIsySvfBHP4S"
      },
      "outputs": [],
      "source": [
        "max_len = np.max([pd.Series(train_data).str.len().max(),\n",
        "                  pd.Series(test_data).str.len().max(),\n",
        "                  pd.Series(vzl_data).str.len().max()])"
      ]
    },
    {
      "cell_type": "code",
      "execution_count": null,
      "metadata": {
        "id": "W6FnqmyuHP4U"
      },
      "outputs": [],
      "source": [
        "train_data = pad_sequences(train_data, maxlen=max_len, padding='post')\n",
        "test_data = pad_sequences(test_data, maxlen=max_len, padding='post')\n",
        "val_data = pad_sequences(vzl_data, maxlen=max_len, padding='post')"
      ]
    },
    {
      "cell_type": "code",
      "execution_count": null,
      "metadata": {
        "id": "3Wr8NuqbriWG"
      },
      "outputs": [],
      "source": [
        "x_train = tf.expand_dims(train_data, axis=1)\n",
        "x_test = tf.expand_dims(test_data, axis=1)\n",
        "x_val = tf.expand_dims(val_data, axis=1)\n",
        "\n",
        "\n",
        "y_train = tf.expand_dims(df_train['ICD10_1_Carac'], axis=1)\n",
        "y_test = tf.expand_dims(df_test['ICD10_1_Carac'], axis=1)\n",
        "y_val = tf.expand_dims(df_val['ICD10_1_Carac'], axis=1)"
      ]
    },
    {
      "cell_type": "markdown",
      "metadata": {
        "id": "30dLK4ftl_PP"
      },
      "source": [
        "### Entrainement du modèle avec le nouveau jeu de données"
      ]
    },
    {
      "cell_type": "code",
      "execution_count": null,
      "metadata": {
        "colab": {
          "base_uri": "https://localhost:8080/"
        },
        "id": "2EW3a8eDl5LG",
        "outputId": "415be0ac-53b7-4590-ae55-fa84270dd282"
      },
      "outputs": [
        {
          "name": "stdout",
          "output_type": "stream",
          "text": [
            "----- Entrainement du modèle -----\n",
            "Epoch 1/15\n",
            "5681/5681 [==============================] - 75s 11ms/step - loss: 1.6604 - accuracy: 0.5333 - val_loss: 1.0522 - val_accuracy: 0.7105\n",
            "Epoch 2/15\n",
            "5681/5681 [==============================] - 62s 11ms/step - loss: 0.9607 - accuracy: 0.7309 - val_loss: 0.8378 - val_accuracy: 0.7657\n",
            "Epoch 3/15\n",
            "5681/5681 [==============================] - 62s 11ms/step - loss: 0.8051 - accuracy: 0.7680 - val_loss: 0.7507 - val_accuracy: 0.7855\n",
            "Epoch 4/15\n",
            "5681/5681 [==============================] - 62s 11ms/step - loss: 0.7266 - accuracy: 0.7858 - val_loss: 0.6954 - val_accuracy: 0.7963\n",
            "Epoch 5/15\n",
            "5681/5681 [==============================] - 68s 12ms/step - loss: 0.6721 - accuracy: 0.7987 - val_loss: 0.6667 - val_accuracy: 0.8042\n",
            "Epoch 6/15\n",
            "5681/5681 [==============================] - 62s 11ms/step - loss: 0.6339 - accuracy: 0.8071 - val_loss: 0.6425 - val_accuracy: 0.8089\n",
            "Epoch 7/15\n",
            "5681/5681 [==============================] - 62s 11ms/step - loss: 0.6048 - accuracy: 0.8151 - val_loss: 0.6255 - val_accuracy: 0.8124\n",
            "Epoch 8/15\n",
            "5681/5681 [==============================] - 69s 12ms/step - loss: 0.5827 - accuracy: 0.8200 - val_loss: 0.6141 - val_accuracy: 0.8142\n",
            "Epoch 9/15\n",
            "5681/5681 [==============================] - 89s 16ms/step - loss: 0.5613 - accuracy: 0.8248 - val_loss: 0.6032 - val_accuracy: 0.8176\n",
            "Epoch 10/15\n",
            "5681/5681 [==============================] - 62s 11ms/step - loss: 0.5448 - accuracy: 0.8289 - val_loss: 0.5951 - val_accuracy: 0.8189\n",
            "Epoch 11/15\n",
            "5681/5681 [==============================] - 62s 11ms/step - loss: 0.5306 - accuracy: 0.8317 - val_loss: 0.5879 - val_accuracy: 0.8205\n",
            "Epoch 12/15\n",
            "5681/5681 [==============================] - 62s 11ms/step - loss: 0.5193 - accuracy: 0.8353 - val_loss: 0.5852 - val_accuracy: 0.8223\n",
            "Epoch 13/15\n",
            "5681/5681 [==============================] - 62s 11ms/step - loss: 0.5106 - accuracy: 0.8373 - val_loss: 0.5827 - val_accuracy: 0.8224\n",
            "Epoch 14/15\n",
            "5681/5681 [==============================] - 63s 11ms/step - loss: 0.5011 - accuracy: 0.8393 - val_loss: 0.5717 - val_accuracy: 0.8251\n",
            "Epoch 15/15\n",
            "5681/5681 [==============================] - 62s 11ms/step - loss: 0.4908 - accuracy: 0.8416 - val_loss: 0.5688 - val_accuracy: 0.8274\n"
          ]
        },
        {
          "data": {
            "text/plain": [
              "<keras.callbacks.History at 0x7f62101eba90>"
            ]
          },
          "execution_count": 76,
          "metadata": {},
          "output_type": "execute_result"
        }
      ],
      "source": [
        "from tensorflow import keras\n",
        "from keras.layers import Dense, LayerNormalization, LSTM, Embedding, GlobalAveragePooling1D, TextVectorization, Conv1D, Flatten\n",
        "\n",
        "\n",
        "model = tf.keras.Sequential([\n",
        "                             Embedding(input_dim=8096, output_dim=30, mask_zero=True, input_length=max_len),\n",
        "                             LSTM(30, dropout=0.2, recurrent_dropout=0., return_sequences=True),\n",
        "                             LSTM(30, dropout=0.2, recurrent_dropout=0., return_sequences=True),\n",
        "                             GlobalAveragePooling1D(),\n",
        "                             Dense(nbre_classes, activation='softmax')\n",
        "])\n",
        "\n",
        "model.compile(optimizer='adam', loss='sparse_categorical_crossentropy', metrics=['accuracy'])\n",
        "\n",
        "print(\"----- Entrainement du modèle -----\")\n",
        "model.fit(train_data, y_train, epochs=15, batch_size=32, validation_data=(val_data, y_val))"
      ]
    },
    {
      "cell_type": "code",
      "execution_count": null,
      "metadata": {
        "colab": {
          "base_uri": "https://localhost:8080/"
        },
        "id": "F446DBmIAa7M",
        "outputId": "99c2f50c-fb1d-4d22-ae26-691325422d44"
      },
      "outputs": [
        {
          "name": "stdout",
          "output_type": "stream",
          "text": [
            "\n",
            "----- Evaluation du modele  -----\n",
            "938/938 [==============================] - 4s 4ms/step - loss: 0.5570 - accuracy: 0.8320\n",
            "Accuracy: 0.8320333361625671\n",
            "\n",
            "----- Evaluation du modele : f1-Score  -----\n"
          ]
        },
        {
          "data": {
            "text/plain": [
              "0.8290298193182769"
            ]
          },
          "execution_count": 77,
          "metadata": {},
          "output_type": "execute_result"
        }
      ],
      "source": [
        "print(\"\\n----- Evaluation du modele  -----\")\n",
        "print(\"Accuracy:\", model.evaluate(test_data, y_test)[1])\n",
        "\n",
        "yhat_probs = model.predict(test_data, verbose=0)\n",
        "y_pred = np.argmax(yhat_probs,axis=1)\n",
        "\n",
        "print(\"\\n----- Evaluation du modele : f1-Score  -----\")\n",
        "f1_score(y_test, y_pred, average='weighted')"
      ]
    },
    {
      "cell_type": "markdown",
      "metadata": {
        "id": "HdXaoBtHHrgt"
      },
      "source": [
        "On remarque que pour notre problème, decomposer le texte en sous mots améliore légèrement le résultat obtenu. En effet on obtient des métriques similaires à celles que l'on avait quand on tokenisait les documents seul, mais on peut aussi constater que le modèle n'a pas tendance à sur-apprendre malgré le nombre d'epochs élevé, ce qui n'était pas le cas avec le modèle vu plus haut. Toutefois, les points gagnés en terme de performance de modèle se compensent avec le temps d'entrainement qu'on pourrait juger un peu long."
      ]
    },
    {
      "cell_type": "markdown",
      "metadata": {
        "id": "kTExj2Q6Vkjc"
      },
      "source": [
        "## Point 4"
      ]
    },
    {
      "cell_type": "markdown",
      "metadata": {
        "id": "rxlr5xx-gM4r"
      },
      "source": [
        "Une convolution standard ne prenant pas en compte la direction de"
      ]
    },
    {
      "cell_type": "code",
      "execution_count": null,
      "metadata": {
        "colab": {
          "base_uri": "https://localhost:8080/"
        },
        "id": "mvYe-TAOVngS",
        "outputId": "2c91bb73-3a73-40a8-e4e7-bd25fd4dc63e"
      },
      "outputs": [
        {
          "name": "stdout",
          "output_type": "stream",
          "text": [
            "Epoch 1/5\n",
            "5681/5681 [==============================] - 31s 5ms/step - loss: 3.0295 - accuracy: 0.1217\n",
            "Epoch 2/5\n",
            "5681/5681 [==============================] - 25s 4ms/step - loss: 2.9965 - accuracy: 0.1301\n",
            "Epoch 3/5\n",
            "5681/5681 [==============================] - 26s 5ms/step - loss: 2.9926 - accuracy: 0.1304\n",
            "Epoch 4/5\n",
            "5681/5681 [==============================] - 26s 5ms/step - loss: 2.9858 - accuracy: 0.1319\n",
            "Epoch 5/5\n",
            "5681/5681 [==============================] - 27s 5ms/step - loss: 2.9869 - accuracy: 0.1314\n"
          ]
        },
        {
          "data": {
            "text/plain": [
              "<keras.callbacks.History at 0x7f6212e58dd0>"
            ]
          },
          "execution_count": 78,
          "metadata": {},
          "output_type": "execute_result"
        }
      ],
      "source": [
        "from tensorflow import keras\n",
        "import tensorflow as tf\n",
        "\n",
        "model = tf.keras.Sequential([\n",
        "                             keras.layers.Conv1D(32, 5, padding='causal', strides=2, input_shape=x.shape[1:]),\n",
        "                             keras.layers.Conv1D(32, 5, padding='causal', strides=2),\n",
        "                             LSTM(30, dropout=0.2, recurrent_dropout=0., return_sequences=True),\n",
        "                             #keras.layers.GlobalAveragePooling1D(),\n",
        "                             keras.layers.Dense(nbre_classes, activation='softmax')\n",
        "])\n",
        "\n",
        "model.compile(optimizer='adam', loss='sparse_categorical_crossentropy', metrics=['accuracy'])\n",
        "\n",
        "model.fit(x, y_train, epochs=5) #,batch_size=32, validation_data=(x_val, y_val))"
      ]
    },
    {
      "cell_type": "code",
      "execution_count": null,
      "metadata": {
        "colab": {
          "base_uri": "https://localhost:8080/"
        },
        "id": "cUZGmpoqbAq-",
        "outputId": "4e20541b-5c2d-40a7-b680-53577c79b763"
      },
      "outputs": [
        {
          "name": "stdout",
          "output_type": "stream",
          "text": [
            "\n",
            "----- Evaluation du modele  -----\n",
            "938/938 [==============================] - 3s 3ms/step - loss: 2.9992 - accuracy: 0.1265\n",
            "Accuracy: 0.1264999955892563\n"
          ]
        }
      ],
      "source": [
        "print(\"\\n----- Evaluation du modele  -----\")\n",
        "x_test = tf.expand_dims(test_data, axis=1)\n",
        "print(\"Accuracy:\", model.evaluate(x_test, y_test)[1])"
      ]
    },
    {
      "cell_type": "markdown",
      "metadata": {
        "id": "N15AD6-0FLPm"
      },
      "source": [
        "## Point 5"
      ]
    },
    {
      "cell_type": "code",
      "execution_count": null,
      "metadata": {
        "colab": {
          "base_uri": "https://localhost:8080/"
        },
        "id": "XvhRhxr9FO-d",
        "outputId": "0e705d0e-4e99-4d8f-cd62-92641e125bf6"
      },
      "outputs": [
        {
          "name": "stdout",
          "output_type": "stream",
          "text": [
            "Collecting tensorflow_text\n",
            "  Downloading tensorflow_text-2.7.3-cp37-cp37m-manylinux2010_x86_64.whl (4.9 MB)\n",
            "\u001b[K     |████████████████████████████████| 4.9 MB 5.2 MB/s \n",
            "\u001b[?25hRequirement already satisfied: tensorflow-hub>=0.8.0 in /usr/local/lib/python3.7/dist-packages (from tensorflow_text) (0.12.0)\n",
            "Requirement already satisfied: tensorflow<2.8,>=2.7.0 in /usr/local/lib/python3.7/dist-packages (from tensorflow_text) (2.7.0)\n",
            "Requirement already satisfied: keras-preprocessing>=1.1.1 in /usr/local/lib/python3.7/dist-packages (from tensorflow<2.8,>=2.7.0->tensorflow_text) (1.1.2)\n",
            "Requirement already satisfied: h5py>=2.9.0 in /usr/local/lib/python3.7/dist-packages (from tensorflow<2.8,>=2.7.0->tensorflow_text) (3.1.0)\n",
            "Requirement already satisfied: protobuf>=3.9.2 in /usr/local/lib/python3.7/dist-packages (from tensorflow<2.8,>=2.7.0->tensorflow_text) (3.17.3)\n",
            "Requirement already satisfied: numpy>=1.14.5 in /usr/local/lib/python3.7/dist-packages (from tensorflow<2.8,>=2.7.0->tensorflow_text) (1.19.5)\n",
            "Requirement already satisfied: tensorflow-estimator<2.8,~=2.7.0rc0 in /usr/local/lib/python3.7/dist-packages (from tensorflow<2.8,>=2.7.0->tensorflow_text) (2.7.0)\n",
            "Requirement already satisfied: tensorflow-io-gcs-filesystem>=0.21.0 in /usr/local/lib/python3.7/dist-packages (from tensorflow<2.8,>=2.7.0->tensorflow_text) (0.22.0)\n",
            "Requirement already satisfied: flatbuffers<3.0,>=1.12 in /usr/local/lib/python3.7/dist-packages (from tensorflow<2.8,>=2.7.0->tensorflow_text) (2.0)\n",
            "Requirement already satisfied: libclang>=9.0.1 in /usr/local/lib/python3.7/dist-packages (from tensorflow<2.8,>=2.7.0->tensorflow_text) (12.0.0)\n",
            "Requirement already satisfied: keras<2.8,>=2.7.0rc0 in /usr/local/lib/python3.7/dist-packages (from tensorflow<2.8,>=2.7.0->tensorflow_text) (2.7.0)\n",
            "Requirement already satisfied: termcolor>=1.1.0 in /usr/local/lib/python3.7/dist-packages (from tensorflow<2.8,>=2.7.0->tensorflow_text) (1.1.0)\n",
            "Requirement already satisfied: six>=1.12.0 in /usr/local/lib/python3.7/dist-packages (from tensorflow<2.8,>=2.7.0->tensorflow_text) (1.15.0)\n",
            "Requirement already satisfied: astunparse>=1.6.0 in /usr/local/lib/python3.7/dist-packages (from tensorflow<2.8,>=2.7.0->tensorflow_text) (1.6.3)\n",
            "Requirement already satisfied: absl-py>=0.4.0 in /usr/local/lib/python3.7/dist-packages (from tensorflow<2.8,>=2.7.0->tensorflow_text) (0.12.0)\n",
            "Requirement already satisfied: wrapt>=1.11.0 in /usr/local/lib/python3.7/dist-packages (from tensorflow<2.8,>=2.7.0->tensorflow_text) (1.13.3)\n",
            "Requirement already satisfied: typing-extensions>=3.6.6 in /usr/local/lib/python3.7/dist-packages (from tensorflow<2.8,>=2.7.0->tensorflow_text) (3.10.0.2)\n",
            "Requirement already satisfied: wheel<1.0,>=0.32.0 in /usr/local/lib/python3.7/dist-packages (from tensorflow<2.8,>=2.7.0->tensorflow_text) (0.37.0)\n",
            "Requirement already satisfied: tensorboard~=2.6 in /usr/local/lib/python3.7/dist-packages (from tensorflow<2.8,>=2.7.0->tensorflow_text) (2.7.0)\n",
            "Requirement already satisfied: gast<0.5.0,>=0.2.1 in /usr/local/lib/python3.7/dist-packages (from tensorflow<2.8,>=2.7.0->tensorflow_text) (0.4.0)\n",
            "Requirement already satisfied: google-pasta>=0.1.1 in /usr/local/lib/python3.7/dist-packages (from tensorflow<2.8,>=2.7.0->tensorflow_text) (0.2.0)\n",
            "Requirement already satisfied: grpcio<2.0,>=1.24.3 in /usr/local/lib/python3.7/dist-packages (from tensorflow<2.8,>=2.7.0->tensorflow_text) (1.42.0)\n",
            "Requirement already satisfied: opt-einsum>=2.3.2 in /usr/local/lib/python3.7/dist-packages (from tensorflow<2.8,>=2.7.0->tensorflow_text) (3.3.0)\n",
            "Requirement already satisfied: cached-property in /usr/local/lib/python3.7/dist-packages (from h5py>=2.9.0->tensorflow<2.8,>=2.7.0->tensorflow_text) (1.5.2)\n",
            "Requirement already satisfied: google-auth<3,>=1.6.3 in /usr/local/lib/python3.7/dist-packages (from tensorboard~=2.6->tensorflow<2.8,>=2.7.0->tensorflow_text) (1.35.0)\n",
            "Requirement already satisfied: werkzeug>=0.11.15 in /usr/local/lib/python3.7/dist-packages (from tensorboard~=2.6->tensorflow<2.8,>=2.7.0->tensorflow_text) (1.0.1)\n",
            "Requirement already satisfied: tensorboard-plugin-wit>=1.6.0 in /usr/local/lib/python3.7/dist-packages (from tensorboard~=2.6->tensorflow<2.8,>=2.7.0->tensorflow_text) (1.8.0)\n",
            "Requirement already satisfied: markdown>=2.6.8 in /usr/local/lib/python3.7/dist-packages (from tensorboard~=2.6->tensorflow<2.8,>=2.7.0->tensorflow_text) (3.3.6)\n",
            "Requirement already satisfied: requests<3,>=2.21.0 in /usr/local/lib/python3.7/dist-packages (from tensorboard~=2.6->tensorflow<2.8,>=2.7.0->tensorflow_text) (2.23.0)\n",
            "Requirement already satisfied: tensorboard-data-server<0.7.0,>=0.6.0 in /usr/local/lib/python3.7/dist-packages (from tensorboard~=2.6->tensorflow<2.8,>=2.7.0->tensorflow_text) (0.6.1)\n",
            "Requirement already satisfied: google-auth-oauthlib<0.5,>=0.4.1 in /usr/local/lib/python3.7/dist-packages (from tensorboard~=2.6->tensorflow<2.8,>=2.7.0->tensorflow_text) (0.4.6)\n",
            "Requirement already satisfied: setuptools>=41.0.0 in /usr/local/lib/python3.7/dist-packages (from tensorboard~=2.6->tensorflow<2.8,>=2.7.0->tensorflow_text) (57.4.0)\n",
            "Requirement already satisfied: pyasn1-modules>=0.2.1 in /usr/local/lib/python3.7/dist-packages (from google-auth<3,>=1.6.3->tensorboard~=2.6->tensorflow<2.8,>=2.7.0->tensorflow_text) (0.2.8)\n",
            "Requirement already satisfied: cachetools<5.0,>=2.0.0 in /usr/local/lib/python3.7/dist-packages (from google-auth<3,>=1.6.3->tensorboard~=2.6->tensorflow<2.8,>=2.7.0->tensorflow_text) (4.2.4)\n",
            "Requirement already satisfied: rsa<5,>=3.1.4 in /usr/local/lib/python3.7/dist-packages (from google-auth<3,>=1.6.3->tensorboard~=2.6->tensorflow<2.8,>=2.7.0->tensorflow_text) (4.8)\n",
            "Requirement already satisfied: requests-oauthlib>=0.7.0 in /usr/local/lib/python3.7/dist-packages (from google-auth-oauthlib<0.5,>=0.4.1->tensorboard~=2.6->tensorflow<2.8,>=2.7.0->tensorflow_text) (1.3.0)\n",
            "Requirement already satisfied: importlib-metadata>=4.4 in /usr/local/lib/python3.7/dist-packages (from markdown>=2.6.8->tensorboard~=2.6->tensorflow<2.8,>=2.7.0->tensorflow_text) (4.8.2)\n",
            "Requirement already satisfied: zipp>=0.5 in /usr/local/lib/python3.7/dist-packages (from importlib-metadata>=4.4->markdown>=2.6.8->tensorboard~=2.6->tensorflow<2.8,>=2.7.0->tensorflow_text) (3.6.0)\n",
            "Requirement already satisfied: pyasn1<0.5.0,>=0.4.6 in /usr/local/lib/python3.7/dist-packages (from pyasn1-modules>=0.2.1->google-auth<3,>=1.6.3->tensorboard~=2.6->tensorflow<2.8,>=2.7.0->tensorflow_text) (0.4.8)\n",
            "Requirement already satisfied: certifi>=2017.4.17 in /usr/local/lib/python3.7/dist-packages (from requests<3,>=2.21.0->tensorboard~=2.6->tensorflow<2.8,>=2.7.0->tensorflow_text) (2021.10.8)\n",
            "Requirement already satisfied: idna<3,>=2.5 in /usr/local/lib/python3.7/dist-packages (from requests<3,>=2.21.0->tensorboard~=2.6->tensorflow<2.8,>=2.7.0->tensorflow_text) (2.10)\n",
            "Requirement already satisfied: chardet<4,>=3.0.2 in /usr/local/lib/python3.7/dist-packages (from requests<3,>=2.21.0->tensorboard~=2.6->tensorflow<2.8,>=2.7.0->tensorflow_text) (3.0.4)\n",
            "Requirement already satisfied: urllib3!=1.25.0,!=1.25.1,<1.26,>=1.21.1 in /usr/local/lib/python3.7/dist-packages (from requests<3,>=2.21.0->tensorboard~=2.6->tensorflow<2.8,>=2.7.0->tensorflow_text) (1.24.3)\n",
            "Requirement already satisfied: oauthlib>=3.0.0 in /usr/local/lib/python3.7/dist-packages (from requests-oauthlib>=0.7.0->google-auth-oauthlib<0.5,>=0.4.1->tensorboard~=2.6->tensorflow<2.8,>=2.7.0->tensorflow_text) (3.1.1)\n",
            "Installing collected packages: tensorflow-text\n",
            "Successfully installed tensorflow-text-2.7.3\n"
          ]
        }
      ],
      "source": [
        "pip install tensorflow_text"
      ]
    },
    {
      "cell_type": "code",
      "execution_count": null,
      "metadata": {
        "id": "_wjt1Cmhsir7"
      },
      "outputs": [],
      "source": [
        "import numpy as np\n",
        "\n",
        "import typing\n",
        "from typing import Any, Tuple\n",
        "\n",
        "import tensorflow as tf\n",
        "\n",
        "import tensorflow_text as tf_text\n",
        "\n",
        "import matplotlib.pyplot as plt\n",
        "import matplotlib.ticker as ticker"
      ]
    },
    {
      "cell_type": "code",
      "execution_count": null,
      "metadata": {
        "id": "7ic6ejFxnPQv"
      },
      "outputs": [],
      "source": [
        "inp = train['RawText'].values.tolist()\n",
        "targ = train['ICD10'].values.tolist()"
      ]
    },
    {
      "cell_type": "code",
      "execution_count": null,
      "metadata": {
        "id": "YaloWMg_A_Us"
      },
      "outputs": [],
      "source": [
        "BUFFER_SIZE = len(inp)\n",
        "BATCH_SIZE = 64\n",
        "\n",
        "dataset = tf.data.Dataset.from_tensor_slices((inp, targ)).shuffle(BUFFER_SIZE)\n",
        "dataset = dataset.batch(BATCH_SIZE)"
      ]
    },
    {
      "cell_type": "code",
      "execution_count": null,
      "metadata": {
        "id": "sf-aq5bKpXIv"
      },
      "outputs": [],
      "source": [
        "#Pré-traitement du texte\n",
        "def tf_lower_and_split_punct(text):\n",
        "  # Split accecented characters.\n",
        "  text = tf_text.normalize_utf8(text, 'NFKD')\n",
        "  text = tf.strings.lower(text)\n",
        "  # Strip whitespace.\n",
        "  text = tf.strings.strip(text)\n",
        "\n",
        "  text = tf.strings.join(['[START]', text, '[END]'], separator=' ')\n",
        "  return text"
      ]
    },
    {
      "cell_type": "code",
      "execution_count": null,
      "metadata": {
        "id": "vQ83Tp-nnm54"
      },
      "outputs": [],
      "source": [
        "#Vectorisation du texte\n",
        "max_vocab_size = 5000\n",
        "\n",
        "input_text_processor = tf.keras.layers.TextVectorization(\n",
        "    standardize=tf_lower_and_split_punct,\n",
        "    max_tokens=max_vocab_size)"
      ]
    },
    {
      "cell_type": "code",
      "execution_count": null,
      "metadata": {
        "colab": {
          "base_uri": "https://localhost:8080/"
        },
        "id": "kyjzZrw2oaA5",
        "outputId": "3fd9d5e4-a03a-496f-87c9-2322f3da98af"
      },
      "outputs": [
        {
          "data": {
            "text/plain": [
              "['', '[UNK]', '[START]', '[END]', 'de', 'aussi', 'voir', 'gauche', 'nca', 'à']"
            ]
          },
          "execution_count": 10,
          "metadata": {},
          "output_type": "execute_result"
        }
      ],
      "source": [
        "#La méthode adapt initialise la couche sur la base des données. Ici, il détermine le vocabulaire\n",
        "input_text_processor.adapt(inp)\n",
        "\n",
        "#Voici les 10 premiers mots du vocabulaire :\n",
        "input_text_processor.get_vocabulary()[:10]"
      ]
    },
    {
      "cell_type": "code",
      "execution_count": null,
      "metadata": {
        "colab": {
          "base_uri": "https://localhost:8080/"
        },
        "id": "j1k2toTIpn9m",
        "outputId": "7e47ffaa-7f81-4d9f-e37d-07170b5bb9be"
      },
      "outputs": [
        {
          "data": {
            "text/plain": [
              "['',\n",
              " '[UNK]',\n",
              " '[START]',\n",
              " '[END]',\n",
              " 's062',\n",
              " 'c798',\n",
              " 'c859',\n",
              " 'c349',\n",
              " 'z924',\n",
              " 'i251']"
            ]
          },
          "execution_count": 11,
          "metadata": {},
          "output_type": "execute_result"
        }
      ],
      "source": [
        "#C'est le text 'TextVectorization' couche, construire maintenant avec .adapt() les classes \n",
        "output_text_processor = tf.keras.layers.TextVectorization(\n",
        "    standardize=tf_lower_and_split_punct,\n",
        "    max_tokens=max_vocab_size)\n",
        "\n",
        "output_text_processor.adapt(targ)\n",
        "output_text_processor.get_vocabulary()[:10]"
      ]
    },
    {
      "cell_type": "code",
      "execution_count": null,
      "metadata": {
        "id": "izUkpcE2pehZ"
      },
      "outputs": [],
      "source": [
        "embedding_dim = 256\n",
        "units = 1024"
      ]
    },
    {
      "cell_type": "code",
      "execution_count": null,
      "metadata": {
        "id": "KqFqKi4fqN9X"
      },
      "outputs": [],
      "source": [
        "#@title Shape checker\n",
        "class ShapeChecker():\n",
        "  def __init__(self):\n",
        "    # Keep a cache of every axis-name seen\n",
        "    self.shapes = {}\n",
        "\n",
        "  def __call__(self, tensor, names, broadcast=False):\n",
        "    if not tf.executing_eagerly():\n",
        "      return\n",
        "\n",
        "    if isinstance(names, str):\n",
        "      names = (names,)\n",
        "\n",
        "    shape = tf.shape(tensor)\n",
        "    rank = tf.rank(tensor)\n",
        "\n",
        "    if rank != len(names):\n",
        "      raise ValueError(f'Rank mismatch:\\n'\n",
        "                       f'    found {rank}: {shape.numpy()}\\n'\n",
        "                       f'    expected {len(names)}: {names}\\n')\n",
        "\n",
        "    for i, name in enumerate(names):\n",
        "      if isinstance(name, int):\n",
        "        old_dim = name\n",
        "      else:\n",
        "        old_dim = self.shapes.get(name, None)\n",
        "      new_dim = shape[i]\n",
        "\n",
        "      if (broadcast and new_dim == 1):\n",
        "        continue\n",
        "\n",
        "      if old_dim is None:\n",
        "        # If the axis name is new, add its length to the cache.\n",
        "        self.shapes[name] = new_dim\n",
        "        continue\n",
        "\n",
        "      if new_dim != old_dim:\n",
        "        raise ValueError(f\"Shape mismatch for dimension: '{name}'\\n\"\n",
        "                         f\"    found: {new_dim}\\n\"\n",
        "                         f\"    expected: {old_dim}\\n\")"
      ]
    },
    {
      "cell_type": "code",
      "execution_count": null,
      "metadata": {
        "id": "HeAgTCDYp-39"
      },
      "outputs": [],
      "source": [
        "class Encoder(tf.keras.layers.Layer):\n",
        "  '''\n",
        "  return : \n",
        "      output : la séquence traitée.\n",
        "      stat : l'état interne qui sera utilisé pour initialiser le décodeur.\n",
        "  '''\n",
        "  def __init__(self, input_vocab_size, embedding_dim, enc_units):\n",
        "    super(Encoder, self).__init__()\n",
        "    self.enc_units = enc_units\n",
        "    self.input_vocab_size = input_vocab_size\n",
        "\n",
        "    # The embedding layer converts tokens to vectors\n",
        "    self.embedding = tf.keras.layers.Embedding(self.input_vocab_size,\n",
        "                                               embedding_dim)\n",
        "\n",
        "    # The GRU RNN layer processes those vectors sequentially.\n",
        "    self.gru = tf.keras.layers.GRU(self.enc_units,\n",
        "                                   # Return the sequence and state\n",
        "                                   return_sequences=True,\n",
        "                                   return_state=True,\n",
        "                                   recurrent_initializer='glorot_uniform')\n",
        "\n",
        "  def call(self, tokens, state=None):\n",
        "    shape_checker = ShapeChecker()\n",
        "    shape_checker(tokens, ('batch', 's'))\n",
        "\n",
        "    # 2. The embedding layer looks up the embedding for each token.\n",
        "    vectors = self.embedding(tokens)\n",
        "    shape_checker(vectors, ('batch', 's', 'embed_dim'))\n",
        "\n",
        "    # 3. The GRU processes the embedding sequence.\n",
        "    #    output shape: (batch, s, enc_units)\n",
        "    #    state shape: (batch, enc_units)\n",
        "    output, state = self.gru(vectors, initial_state=state)\n",
        "    shape_checker(output, ('batch', 's', 'enc_units'))\n",
        "    shape_checker(state, ('batch', 'enc_units'))\n",
        "\n",
        "    # 4. Returns the new sequence and its state.\n",
        "    return output, state"
      ]
    },
    {
      "cell_type": "code",
      "execution_count": null,
      "metadata": {
        "id": "HnqvMSbMqP-Z"
      },
      "outputs": [],
      "source": [
        "class BahdanauAttention(tf.keras.layers.Layer):\n",
        "  def __init__(self, units):\n",
        "    super().__init__()\n",
        "    # For Eqn. (4), the  Bahdanau attention\n",
        "    self.W1 = tf.keras.layers.Dense(units, use_bias=False)\n",
        "    self.W2 = tf.keras.layers.Dense(units, use_bias=False)\n",
        "\n",
        "    self.attention = tf.keras.layers.AdditiveAttention()\n",
        "\n",
        "  def call(self, query, value, mask):\n",
        "    shape_checker = ShapeChecker()\n",
        "    shape_checker(query, ('batch', 't', 'query_units'))\n",
        "    shape_checker(value, ('batch', 's', 'value_units'))\n",
        "    shape_checker(mask, ('batch', 's'))\n",
        "\n",
        "    # From Eqn. (4), `W1@ht`.\n",
        "    w1_query = self.W1(query)\n",
        "    shape_checker(w1_query, ('batch', 't', 'attn_units'))\n",
        "\n",
        "    # From Eqn. (4), `W2@hs`.\n",
        "    w2_key = self.W2(value)\n",
        "    shape_checker(w2_key, ('batch', 's', 'attn_units'))\n",
        "\n",
        "    query_mask = tf.ones(tf.shape(query)[:-1], dtype=bool)\n",
        "    value_mask = mask\n",
        "\n",
        "    context_vector, attention_weights = self.attention(\n",
        "        inputs = [w1_query, value, w2_key],\n",
        "        mask=[query_mask, value_mask],\n",
        "        return_attention_scores = True,\n",
        "    )\n",
        "    shape_checker(context_vector, ('batch', 't', 'value_units'))\n",
        "    shape_checker(attention_weights, ('batch', 't', 's'))\n",
        "\n",
        "    return context_vector, attention_weights"
      ]
    },
    {
      "cell_type": "code",
      "execution_count": null,
      "metadata": {
        "id": "w3jD0GMHtfq0"
      },
      "outputs": [],
      "source": [
        "attention_layer = BahdanauAttention(units)"
      ]
    },
    {
      "cell_type": "code",
      "execution_count": null,
      "metadata": {
        "id": "qXp6Pil_w987"
      },
      "outputs": [],
      "source": [
        "class Decoder(tf.keras.layers.Layer):\n",
        "  def __init__(self, output_vocab_size, embedding_dim, dec_units):\n",
        "    super(Decoder, self).__init__()\n",
        "    self.dec_units = dec_units\n",
        "    self.output_vocab_size = output_vocab_size\n",
        "    self.embedding_dim = embedding_dim\n",
        "\n",
        "    # For Step 1. The embedding layer convets token IDs to vectors\n",
        "    self.embedding = tf.keras.layers.Embedding(self.output_vocab_size,\n",
        "                                               embedding_dim)\n",
        "\n",
        "    # For Step 2. The RNN keeps track of what's been generated so far.\n",
        "    self.gru = tf.keras.layers.GRU(self.dec_units,\n",
        "                                   return_sequences=True,\n",
        "                                   return_state=True,\n",
        "                                   recurrent_initializer='glorot_uniform')\n",
        "\n",
        "    # For step 3. The RNN output will be the query for the attention layer.\n",
        "    self.attention = BahdanauAttention(self.dec_units)\n",
        "\n",
        "    # For step 4. Eqn. (3): converting `ct` to `at`\n",
        "    self.Wc = tf.keras.layers.Dense(dec_units, activation=tf.math.tanh,\n",
        "                                    use_bias=False)\n",
        "\n",
        "    # For step 5. This fully connected layer produces the logits for each\n",
        "    # output token.\n",
        "    self.fc = tf.keras.layers.Dense(self.output_vocab_size)"
      ]
    },
    {
      "cell_type": "code",
      "execution_count": null,
      "metadata": {
        "id": "Ws1HvdD3w-A9"
      },
      "outputs": [],
      "source": [
        "class DecoderInput(typing.NamedTuple):\n",
        "  new_tokens: Any\n",
        "  enc_output: Any\n",
        "  mask: Any\n",
        "\n",
        "class DecoderOutput(typing.NamedTuple):\n",
        "  logits: Any\n",
        "  attention_weights: Any"
      ]
    },
    {
      "cell_type": "code",
      "execution_count": null,
      "metadata": {
        "id": "6eaXN0H-w-EY"
      },
      "outputs": [],
      "source": [
        "def call(self,\n",
        "         inputs: DecoderInput,\n",
        "         state=None) -> Tuple[DecoderOutput, tf.Tensor]:\n",
        "  shape_checker = ShapeChecker()\n",
        "  shape_checker(inputs.new_tokens, ('batch', 't'))\n",
        "  shape_checker(inputs.enc_output, ('batch', 's', 'enc_units'))\n",
        "  shape_checker(inputs.mask, ('batch', 's'))\n",
        "\n",
        "  if state is not None:\n",
        "    shape_checker(state, ('batch', 'dec_units'))\n",
        "\n",
        "  # Step 1. Lookup the embeddings\n",
        "  vectors = self.embedding(inputs.new_tokens)\n",
        "  shape_checker(vectors, ('batch', 't', 'embedding_dim'))\n",
        "\n",
        "  # Step 2. Process one step with the RNN\n",
        "  rnn_output, state = self.gru(vectors, initial_state=state)\n",
        "\n",
        "  shape_checker(rnn_output, ('batch', 't', 'dec_units'))\n",
        "  shape_checker(state, ('batch', 'dec_units'))\n",
        "\n",
        "  # Step 3. Use the RNN output as the query for the attention over the\n",
        "  # encoder output.\n",
        "  context_vector, attention_weights = self.attention(\n",
        "      query=rnn_output, value=inputs.enc_output, mask=inputs.mask)\n",
        "  shape_checker(context_vector, ('batch', 't', 'dec_units'))\n",
        "  shape_checker(attention_weights, ('batch', 't', 's'))\n",
        "\n",
        "  # Step 4. Eqn. (3): Join the context_vector and rnn_output\n",
        "  #     [ct; ht] shape: (batch t, value_units + query_units)\n",
        "  context_and_rnn_output = tf.concat([context_vector, rnn_output], axis=-1)\n",
        "\n",
        "  # Step 4. Eqn. (3): `at = tanh(Wc@[ct; ht])`\n",
        "  attention_vector = self.Wc(context_and_rnn_output)\n",
        "  shape_checker(attention_vector, ('batch', 't', 'dec_units'))\n",
        "\n",
        "  # Step 5. Generate logit predictions:\n",
        "  logits = self.fc(attention_vector)\n",
        "  shape_checker(logits, ('batch', 't', 'output_vocab_size'))\n",
        "\n",
        "  return DecoderOutput(logits, attention_weights), state"
      ]
    },
    {
      "cell_type": "code",
      "execution_count": null,
      "metadata": {
        "id": "aW4D2A98xNKS"
      },
      "outputs": [],
      "source": [
        "Decoder.call = call"
      ]
    },
    {
      "cell_type": "code",
      "execution_count": null,
      "metadata": {
        "id": "M8dseQLJxNNM"
      },
      "outputs": [],
      "source": [
        "'''le décodeur prend 4 paramètres :\n",
        "  new_tokens : le dernier jeton généré. Initialiser le décodeur avec le \"[START]\" jeton.\n",
        "  enc_output : il est généré par l'Encoder.\n",
        "  mask : tenseur booléen.\n",
        "  state : le précédent state de sortie du décodeur.\n",
        "'''\n",
        "decoder = Decoder(output_text_processor.vocabulary_size(),\n",
        "                  embedding_dim, units)"
      ]
    },
    {
      "cell_type": "code",
      "execution_count": null,
      "metadata": {
        "id": "Ln7c1jZ3xg5V"
      },
      "outputs": [],
      "source": [
        "#Fonction de perte\n",
        "class MaskedLoss(tf.keras.losses.Loss):\n",
        "  def __init__(self):\n",
        "    self.name = 'masked_loss'\n",
        "    self.loss = tf.keras.losses.SparseCategoricalCrossentropy(\n",
        "        from_logits=True, reduction='none')\n",
        "\n",
        "  def __call__(self, y_true, y_pred):\n",
        "    shape_checker = ShapeChecker()\n",
        "    shape_checker(y_true, ('batch', 't'))\n",
        "    shape_checker(y_pred, ('batch', 't', 'logits'))\n",
        "\n",
        "    # Calculate the loss for each item in the batch.\n",
        "    loss = self.loss(y_true, y_pred)\n",
        "    shape_checker(loss, ('batch', 't'))\n",
        "\n",
        "    # Mask off the losses on padding.\n",
        "    mask = tf.cast(y_true != 0, tf.float32)\n",
        "    shape_checker(mask, ('batch', 't'))\n",
        "    loss *= mask\n",
        "\n",
        "    # Return the total.\n",
        "    return tf.reduce_sum(loss)"
      ]
    },
    {
      "cell_type": "code",
      "execution_count": null,
      "metadata": {
        "id": "c3Meqp95xg8O"
      },
      "outputs": [],
      "source": [
        "#Mettre en oeuvre l'étape de formation\n",
        "class TrainModel(tf.keras.Model):\n",
        "  def __init__(self, embedding_dim, units,\n",
        "               input_text_processor,\n",
        "               output_text_processor, \n",
        "               use_tf_function=True):\n",
        "    super().__init__()\n",
        "    # Build the encoder and decoder\n",
        "    encoder = Encoder(input_text_processor.vocabulary_size(),\n",
        "                      embedding_dim, units)\n",
        "    decoder = Decoder(output_text_processor.vocabulary_size(),\n",
        "                      embedding_dim, units)\n",
        "\n",
        "    self.encoder = encoder\n",
        "    self.decoder = decoder\n",
        "    self.input_text_processor = input_text_processor\n",
        "    self.output_text_processor = output_text_processor\n",
        "    self.use_tf_function = use_tf_function\n",
        "    self.shape_checker = ShapeChecker()\n",
        "\n",
        "  def train_step(self, inputs):\n",
        "    self.shape_checker = ShapeChecker()\n",
        "    if self.use_tf_function:\n",
        "      return self._tf_train_step(inputs)\n",
        "    else:\n",
        "      return self._train_step(inputs)"
      ]
    },
    {
      "cell_type": "code",
      "execution_count": null,
      "metadata": {
        "id": "mmiaoD8lxg-k"
      },
      "outputs": [],
      "source": [
        "'''\n",
        "Cette fonction reçoit un lot de 'input_text', 'target_text' du tf.data.Dataset,\n",
        "puis convertit ces entrées de texte brut en incorporations de jetons et masques.\n",
        "'''\n",
        "def _preprocess(self, input_text, target_text):\n",
        "  self.shape_checker(input_text, ('batch',))\n",
        "  self.shape_checker(target_text, ('batch',))\n",
        "\n",
        "  # Convert the text to token IDs\n",
        "  input_tokens = self.input_text_processor(input_text)\n",
        "  target_tokens = self.output_text_processor(target_text)\n",
        "  self.shape_checker(input_tokens, ('batch', 's'))\n",
        "  self.shape_checker(target_tokens, ('batch', 't'))\n",
        "\n",
        "  # Convert IDs to masks.\n",
        "  input_mask = input_tokens != 0\n",
        "  self.shape_checker(input_mask, ('batch', 's'))\n",
        "\n",
        "  target_mask = target_tokens != 0\n",
        "  self.shape_checker(target_mask, ('batch', 't'))\n",
        "\n",
        "  return input_tokens, input_mask, target_tokens, target_mask"
      ]
    },
    {
      "cell_type": "code",
      "execution_count": null,
      "metadata": {
        "id": "Q52KM3oIxtmf"
      },
      "outputs": [],
      "source": [
        "TrainModel._preprocess = _preprocess"
      ]
    },
    {
      "cell_type": "code",
      "execution_count": null,
      "metadata": {
        "id": "sAM1qsgLxtpH"
      },
      "outputs": [],
      "source": [
        "'''\n",
        "Cette fonction exécute l'encodeur sur les 'input_tokens' pour obtenir le 'encoder_output' \n",
        "et 'encoder_state', initialise l'état et la perte du décodeur, boucle sur les 'target_tokens' \n",
        "pour donner la perte moyenne, puis calcule le gradient de la perte et utilise l'optimiseur \n",
        "pour appliquer les mises à jour à du modèle 'trainable_variables' .\n",
        "'''\n",
        "def _train_step(self, inputs):\n",
        "  input_text, target_text = inputs  \n",
        "\n",
        "  (input_tokens, input_mask,\n",
        "   target_tokens, target_mask) = self._preprocess(input_text, target_text)\n",
        "\n",
        "  max_target_length = tf.shape(target_tokens)[1]\n",
        "\n",
        "  with tf.GradientTape() as tape:\n",
        "    # Encode the input\n",
        "    enc_output, enc_state = self.encoder(input_tokens)\n",
        "    self.shape_checker(enc_output, ('batch', 's', 'enc_units'))\n",
        "    self.shape_checker(enc_state, ('batch', 'enc_units'))\n",
        "\n",
        "    # Initialize the decoder's state to the encoder's final state.\n",
        "    # This only works if the encoder and decoder have the same number of\n",
        "    # units.\n",
        "    dec_state = enc_state\n",
        "    loss = tf.constant(0.0)\n",
        "\n",
        "    for t in tf.range(max_target_length-1):\n",
        "      # Pass in two tokens from the target sequence:\n",
        "      # 1. The current input to the decoder.\n",
        "      # 2. The target for the decoder's next prediction.\n",
        "      new_tokens = target_tokens[:, t:t+2]\n",
        "      step_loss, dec_state = self._loop_step(new_tokens, input_mask,\n",
        "                                             enc_output, dec_state)\n",
        "      loss = loss + step_loss\n",
        "\n",
        "    # Average the loss over all non padding tokens.\n",
        "    average_loss = loss / tf.reduce_sum(tf.cast(target_mask, tf.float32))\n",
        "\n",
        "  # Apply an optimization step\n",
        "  variables = self.trainable_variables \n",
        "  gradients = tape.gradient(average_loss, variables)\n",
        "  self.optimizer.apply_gradients(zip(gradients, variables))\n",
        "\n",
        "  # Return a dict mapping metric names to current value\n",
        "  return {'batch_loss': average_loss}"
      ]
    },
    {
      "cell_type": "code",
      "execution_count": null,
      "metadata": {
        "id": "xV4PSnUdxtuK"
      },
      "outputs": [],
      "source": [
        "TrainModel._train_step = _train_step"
      ]
    },
    {
      "cell_type": "code",
      "execution_count": null,
      "metadata": {
        "id": "Bi4veKcXxtw1"
      },
      "outputs": [],
      "source": [
        "def _loop_step(self, new_tokens, input_mask, enc_output, dec_state):\n",
        "  input_token, target_token = new_tokens[:, 0:1], new_tokens[:, 1:2]\n",
        "\n",
        "  # Run the decoder one step.\n",
        "  decoder_input = DecoderInput(new_tokens=input_token,\n",
        "                               enc_output=enc_output,\n",
        "                               mask=input_mask)\n",
        "\n",
        "  dec_result, dec_state = self.decoder(decoder_input, state=dec_state)\n",
        "  self.shape_checker(dec_result.logits, ('batch', 't1', 'logits'))\n",
        "  self.shape_checker(dec_result.attention_weights, ('batch', 't1', 's'))\n",
        "  self.shape_checker(dec_state, ('batch', 'dec_units'))\n",
        "\n",
        "  # `self.loss` returns the total for non-padded tokens\n",
        "  y = target_token\n",
        "  y_pred = dec_result.logits\n",
        "  step_loss = self.loss(y, y_pred)\n",
        "\n",
        "  return step_loss, dec_state"
      ]
    },
    {
      "cell_type": "code",
      "execution_count": null,
      "metadata": {
        "id": "4iPfzhB-x63P"
      },
      "outputs": [],
      "source": [
        "TrainModel._loop_step = _loop_step"
      ]
    },
    {
      "cell_type": "code",
      "execution_count": null,
      "metadata": {
        "id": "rhiLKQv3x66B"
      },
      "outputs": [],
      "source": [
        "model = TrainModel(\n",
        "    embedding_dim, units,\n",
        "    input_text_processor=input_text_processor,\n",
        "    output_text_processor=output_text_processor,\n",
        "    use_tf_function=False)\n",
        "\n",
        "# Configure the loss and optimizer\n",
        "model.compile(\n",
        "    optimizer=tf.optimizers.Adam(),\n",
        "    loss=MaskedLoss(),\n",
        ")"
      ]
    },
    {
      "cell_type": "code",
      "execution_count": null,
      "metadata": {
        "colab": {
          "base_uri": "https://localhost:8080/"
        },
        "id": "zBjS4yn1x68z",
        "outputId": "5402eb02-0d3d-463f-a074-ae0bab2bf5cd"
      },
      "outputs": [
        {
          "data": {
            "text/plain": [
              "8.517193191416238"
            ]
          },
          "execution_count": 32,
          "metadata": {},
          "output_type": "execute_result"
        }
      ],
      "source": [
        "#Tester l'étape de formation\n",
        "np.log(output_text_processor.vocabulary_size())"
      ]
    },
    {
      "cell_type": "code",
      "execution_count": null,
      "metadata": {
        "id": "bWN3NJOIyDju"
      },
      "outputs": [],
      "source": [
        "@tf.function(input_signature=[[tf.TensorSpec(dtype=tf.string, shape=[None]),\n",
        "                               tf.TensorSpec(dtype=tf.string, shape=[None])]])\n",
        "def _tf_train_step(self, inputs):\n",
        "  return self._train_step(inputs)"
      ]
    },
    {
      "cell_type": "code",
      "execution_count": null,
      "metadata": {
        "id": "8sCUqZamyKQy"
      },
      "outputs": [],
      "source": [
        "TrainModel._tf_train_step = _tf_train_step"
      ]
    },
    {
      "cell_type": "code",
      "execution_count": null,
      "metadata": {
        "id": "TmwLJAHmyR5M"
      },
      "outputs": [],
      "source": [
        "model.use_tf_function = True"
      ]
    },
    {
      "cell_type": "code",
      "execution_count": null,
      "metadata": {
        "id": "UqLh9_btyY3B"
      },
      "outputs": [],
      "source": [
        "#Entrainer le modèle\n",
        "train_model = TrainModel(\n",
        "    embedding_dim, units,\n",
        "    input_text_processor=input_text_processor,\n",
        "    output_text_processor=output_text_processor)\n",
        "\n",
        "# Configure the loss and optimizer\n",
        "train_model.compile(\n",
        "    optimizer=tf.optimizers.Adam(),\n",
        "    loss=MaskedLoss(),\n",
        ")"
      ]
    },
    {
      "cell_type": "code",
      "execution_count": null,
      "metadata": {
        "id": "SuFsxhtPyjWW"
      },
      "outputs": [],
      "source": [
        "class BatchLogs(tf.keras.callbacks.Callback):\n",
        "  def __init__(self, key):\n",
        "    self.key = key\n",
        "    self.logs = []\n",
        "\n",
        "  def on_train_batch_end(self, n, logs):\n",
        "    self.logs.append(logs[self.key])\n",
        "\n",
        "batch_loss = BatchLogs('batch_loss')"
      ]
    },
    {
      "cell_type": "code",
      "execution_count": null,
      "metadata": {
        "colab": {
          "base_uri": "https://localhost:8080/"
        },
        "id": "UbhW420syjZ7",
        "outputId": "9f65f594-e724-44e6-9275-73c00f0a6cbd"
      },
      "outputs": [
        {
          "name": "stdout",
          "output_type": "stream",
          "text": [
            "Epoch 1/3\n",
            "2841/2841 [==============================] - 3684s 1s/step - batch_loss: 1.6416\n",
            "Epoch 2/3\n",
            "2841/2841 [==============================] - 3666s 1s/step - batch_loss: 0.8475\n",
            "Epoch 3/3\n",
            "2841/2841 [==============================] - 3674s 1s/step - batch_loss: 0.6855\n"
          ]
        },
        {
          "data": {
            "text/plain": [
              "<keras.callbacks.History at 0x7f0f9d4efc10>"
            ]
          },
          "execution_count": 38,
          "metadata": {},
          "output_type": "execute_result"
        }
      ],
      "source": [
        "train_model.fit(dataset, epochs=3,\n",
        "                     callbacks=[batch_loss])"
      ]
    },
    {
      "cell_type": "code",
      "execution_count": null,
      "metadata": {
        "colab": {
          "base_uri": "https://localhost:8080/",
          "height": 300
        },
        "id": "U3m2r8JQyY8R",
        "outputId": "83c87ccd-c225-4615-9fc6-a5d7816173b5"
      },
      "outputs": [
        {
          "data": {
            "text/plain": [
              "Text(0, 0.5, 'CE/token')"
            ]
          },
          "execution_count": 39,
          "metadata": {},
          "output_type": "execute_result"
        },
        {
          "data": {
            "image/png": "[encoded data removed]",
            "text/plain": [
              "<Figure size 432x288 with 1 Axes>"
            ]
          },
          "metadata": {
            "needs_background": "light"
          },
          "output_type": "display_data"
        }
      ],
      "source": [
        "plt.plot(batch_loss.logs)\n",
        "plt.ylim([0, 3])\n",
        "plt.xlabel('Batch #')\n",
        "plt.ylabel('CE/token')"
      ]
    },
    {
      "cell_type": "markdown",
      "metadata": {
        "id": "44ssn9cg-_WG"
      },
      "source": [
        "Remarque : les sauts visibles dans l'intrigue sont aux limites de l'époque."
      ]
    },
    {
      "cell_type": "code",
      "execution_count": null,
      "metadata": {
        "id": "paGRthCzyq_C"
      },
      "outputs": [],
      "source": [
        "class Model(tf.Module):\n",
        "\n",
        "  def __init__(self, encoder, decoder, input_text_processor,\n",
        "               output_text_processor):\n",
        "    self.encoder = encoder\n",
        "    self.decoder = decoder\n",
        "    self.input_text_processor = input_text_processor\n",
        "    self.output_text_processor = output_text_processor\n",
        "\n",
        "    self.output_token_string_from_index = (\n",
        "        tf.keras.layers.StringLookup(\n",
        "            vocabulary=output_text_processor.get_vocabulary(),\n",
        "            mask_token='',\n",
        "            invert=True))\n",
        "\n",
        "    # The output should never generate padding, unknown, or start.\n",
        "    index_from_string = tf.keras.layers.StringLookup(\n",
        "        vocabulary=output_text_processor.get_vocabulary(), mask_token='')\n",
        "    token_mask_ids = index_from_string(['', '[UNK]', '[START]']).numpy()\n",
        "\n",
        "    token_mask = np.zeros([index_from_string.vocabulary_size()], dtype=np.bool)\n",
        "    token_mask[np.array(token_mask_ids)] = True\n",
        "    self.token_mask = token_mask\n",
        "\n",
        "    self.start_token = index_from_string(tf.constant('[START]'))\n",
        "    self.end_token = index_from_string(tf.constant('[END]'))"
      ]
    },
    {
      "cell_type": "code",
      "execution_count": null,
      "metadata": {
        "id": "uTUgbWyLyrB0"
      },
      "outputs": [],
      "source": [
        "model = Model(\n",
        "    encoder=train_model.encoder,\n",
        "    decoder=train_model.decoder,\n",
        "    input_text_processor=input_text_processor,\n",
        "    output_text_processor=output_text_processor,\n",
        ")"
      ]
    },
    {
      "cell_type": "code",
      "execution_count": null,
      "metadata": {
        "id": "yIMDmBjwyY_t"
      },
      "outputs": [],
      "source": [
        "#Convertir les identifiants de jeton en texte.\n",
        "def tokens_to_text(self, result_tokens):\n",
        "  shape_checker = ShapeChecker()\n",
        "  shape_checker(result_tokens, ('batch', 't'))\n",
        "  result_text_tokens = self.output_token_string_from_index(result_tokens)\n",
        "  shape_checker(result_text_tokens, ('batch', 't'))\n",
        "\n",
        "  result_text = tf.strings.reduce_join(result_text_tokens,\n",
        "                                       axis=1, separator=' ')\n",
        "  shape_checker(result_text, ('batch'))\n",
        "\n",
        "  result_text = tf.strings.strip(result_text)\n",
        "  shape_checker(result_text, ('batch',))\n",
        "  return result_text"
      ]
    },
    {
      "cell_type": "code",
      "execution_count": null,
      "metadata": {
        "id": "j4Uw3uC4yx_9"
      },
      "outputs": [],
      "source": [
        "Model.tokens_to_text = tokens_to_text"
      ]
    },
    {
      "cell_type": "code",
      "execution_count": null,
      "metadata": {
        "id": "DxpQfraiyyIO"
      },
      "outputs": [],
      "source": [
        "def sample(self, logits, temperature):\n",
        "  shape_checker = ShapeChecker()\n",
        "  # 't' is usually 1 here.\n",
        "  shape_checker(logits, ('batch', 't', 'vocab'))\n",
        "  shape_checker(self.token_mask, ('vocab',))\n",
        "\n",
        "  token_mask = self.token_mask[tf.newaxis, tf.newaxis, :]\n",
        "  shape_checker(token_mask, ('batch', 't', 'vocab'), broadcast=True)\n",
        "\n",
        "  # Set the logits for all masked tokens to -inf, so they are never chosen.\n",
        "  logits = tf.where(self.token_mask, -np.inf, logits)\n",
        "\n",
        "  if temperature == 0.0:\n",
        "    new_tokens = tf.argmax(logits, axis=-1)\n",
        "  else: \n",
        "    logits = tf.squeeze(logits, axis=1)\n",
        "    new_tokens = tf.random.categorical(logits/temperature,\n",
        "                                        num_samples=1)\n",
        "\n",
        "  shape_checker(new_tokens, ('batch', 't'))\n",
        "\n",
        "  return new_tokens"
      ]
    },
    {
      "cell_type": "code",
      "execution_count": null,
      "metadata": {
        "id": "jvODBEEEyyK1"
      },
      "outputs": [],
      "source": [
        "Model.sample = sample"
      ]
    },
    {
      "cell_type": "code",
      "execution_count": null,
      "metadata": {
        "id": "xKey90R5zC6N"
      },
      "outputs": [],
      "source": [
        "def model_unrolled(self,\n",
        "                       input_text, *,\n",
        "                       max_length=50,\n",
        "                       return_attention=True,\n",
        "                       temperature=1.0):\n",
        "  batch_size = tf.shape(input_text)[0]\n",
        "  input_tokens = self.input_text_processor(input_text)\n",
        "  enc_output, enc_state = self.encoder(input_tokens)\n",
        "\n",
        "  dec_state = enc_state\n",
        "  new_tokens = tf.fill([batch_size, 1], self.start_token)\n",
        "\n",
        "  result_tokens = []\n",
        "  attention = []\n",
        "  done = tf.zeros([batch_size, 1], dtype=tf.bool)\n",
        "\n",
        "  for _ in range(max_length):\n",
        "    dec_input = DecoderInput(new_tokens=new_tokens,\n",
        "                             enc_output=enc_output,\n",
        "                             mask=(input_tokens!=0))\n",
        "\n",
        "    dec_result, dec_state = self.decoder(dec_input, state=dec_state)\n",
        "\n",
        "    attention.append(dec_result.attention_weights)\n",
        "\n",
        "    new_tokens = self.sample(dec_result.logits, temperature)\n",
        "\n",
        "    # If a sequence produces an `end_token`, set it `done`\n",
        "    done = done | (new_tokens == self.end_token)\n",
        "    # Once a sequence is done it only produces 0-padding.\n",
        "    new_tokens = tf.where(done, tf.constant(0, dtype=tf.int64), new_tokens)\n",
        "\n",
        "    # Collect the generated tokens\n",
        "    result_tokens.append(new_tokens)\n",
        "\n",
        "    if tf.executing_eagerly() and tf.reduce_all(done):\n",
        "      break\n",
        "\n",
        "  # Convert the list of generates token ids to a list of strings.\n",
        "  result_tokens = tf.concat(result_tokens, axis=-1)\n",
        "  result_text = self.tokens_to_text(result_tokens)\n",
        "\n",
        "  if return_attention:\n",
        "    attention_stack = tf.concat(attention, axis=1)\n",
        "    return {'text': result_text, 'attention': attention_stack}\n",
        "  else:\n",
        "    return {'text': result_text}"
      ]
    },
    {
      "cell_type": "code",
      "execution_count": null,
      "metadata": {
        "id": "9qKld1YLzC-8"
      },
      "outputs": [],
      "source": [
        "Model.translate = model_unrolled"
      ]
    },
    {
      "cell_type": "code",
      "execution_count": null,
      "metadata": {
        "colab": {
          "base_uri": "https://localhost:8080/"
        },
        "id": "W4hXho18zDBm",
        "outputId": "50a74462-2464-4e2f-9c4f-e362f6c2acb8"
      },
      "outputs": [
        {
          "name": "stdout",
          "output_type": "stream",
          "text": [
            "a698\n",
            "i802\n",
            "\n",
            "CPU times: user 197 ms, sys: 3.05 ms, total: 200 ms\n",
            "Wall time: 187 ms\n"
          ]
        }
      ],
      "source": [
        "#Exécution sur une simple entrée \n",
        "%%time\n",
        "input_text = tf.constant([\n",
        "    'Gangrène due à spirochètes NCA.', # \"A698\"\n",
        "    'Thrombose veineuse profonde cuisse gauche', # \"I802\"\"\n",
        "])\n",
        "\n",
        "result = model.translate(\n",
        "    input_text = input_text)\n",
        "\n",
        "print(result['text'][0].numpy().decode())\n",
        "print(result['text'][1].numpy().decode())\n",
        "print()"
      ]
    },
    {
      "cell_type": "code",
      "execution_count": null,
      "metadata": {
        "id": "hnpQEcjBzDGc"
      },
      "outputs": [],
      "source": [
        "@tf.function(input_signature=[tf.TensorSpec(dtype=tf.string, shape=[None])])\n",
        "def tf_model(self, input_text):\n",
        "  return self.model(input_text)\n",
        "\n",
        "Model.tf_model = tf_model"
      ]
    },
    {
      "cell_type": "code",
      "execution_count": null,
      "metadata": {
        "id": "OfuKKJ3_zZFd"
      },
      "outputs": [],
      "source": [
        "@tf.function(input_signature=[tf.TensorSpec(dtype=tf.string, shape=[None])])\n",
        "def tf_model(self, input_text):\n",
        "  return self.translate(input_text)\n",
        "\n",
        "Model.tf_model = tf_model"
      ]
    },
    {
      "cell_type": "code",
      "execution_count": null,
      "metadata": {
        "colab": {
          "base_uri": "https://localhost:8080/"
        },
        "id": "YuEeNbjPzZI_",
        "outputId": "fd9b4a04-6b89-4596-b3f6-b3565201da6a"
      },
      "outputs": [
        {
          "name": "stdout",
          "output_type": "stream",
          "text": [
            "CPU times: user 27.2 s, sys: 703 ms, total: 27.9 s\n",
            "Wall time: 27.4 s\n"
          ]
        }
      ],
      "source": [
        "%%time\n",
        "result = model.tf_model(\n",
        "    input_text = input_text)"
      ]
    },
    {
      "cell_type": "code",
      "execution_count": null,
      "metadata": {
        "colab": {
          "base_uri": "https://localhost:8080/"
        },
        "id": "KWSYiW-TzZWB",
        "outputId": "2ced1d8e-f644-4878-d6f5-229c44ae38f3"
      },
      "outputs": [
        {
          "name": "stdout",
          "output_type": "stream",
          "text": [
            "z952\n",
            "g819\n",
            "c07\n",
            "\n",
            "CPU times: user 917 ms, sys: 28.2 ms, total: 945 ms\n",
            "Wall time: 583 ms\n"
          ]
        }
      ],
      "source": [
        "#Un autr test\n",
        "%%time\n",
        "three_input_text = tf.constant([\n",
        "    # I38.\n",
        "    'Prothèse valvulaire mécanique.',\n",
        "    # 489F\n",
        "    'Névropathie',\n",
        "    # C07'\n",
        "    'Tumeur mixte parotide dégénérée',\n",
        "])\n",
        "\n",
        "result = model.tf_model(three_input_text)\n",
        "\n",
        "for tr in result['text']:\n",
        "  print(tr.numpy().decode())\n",
        "\n",
        "print()"
      ]
    },
    {
      "cell_type": "code",
      "execution_count": null,
      "metadata": {
        "colab": {
          "base_uri": "https://localhost:8080/"
        },
        "id": "a2jfDRA5zZWy",
        "outputId": "d87af283-511f-43e9-f8d3-0319a4afa05a"
      },
      "outputs": [
        {
          "data": {
            "text/plain": [
              "<tf.Tensor: shape=(3,), dtype=string, numpy=array([b'z952', b'g819', b'c07'], dtype=object)>"
            ]
          },
          "execution_count": 56,
          "metadata": {},
          "output_type": "execute_result"
        }
      ],
      "source": [
        "result['text']"
      ]
    },
    {
      "cell_type": "code",
      "execution_count": null,
      "metadata": {
        "colab": {
          "base_uri": "https://localhost:8080/"
        },
        "id": "jhOv6mJJzZXm",
        "outputId": "bf2eaf0a-c5a1-4e7b-b18a-20acd36824b8"
      },
      "outputs": [
        {
          "name": "stderr",
          "output_type": "stream",
          "text": [
            "WARNING:absl:Found untraced functions such as encoder_1_layer_call_fn, encoder_1_layer_call_and_return_conditional_losses, decoder_2_layer_call_fn, decoder_2_layer_call_and_return_conditional_losses, embedding_3_layer_call_fn while saving (showing 5 of 60). These functions will not be directly callable after loading.\n"
          ]
        },
        {
          "name": "stdout",
          "output_type": "stream",
          "text": [
            "INFO:tensorflow:Assets written to: model/assets\n"
          ]
        },
        {
          "name": "stderr",
          "output_type": "stream",
          "text": [
            "INFO:tensorflow:Assets written to: model/assets\n"
          ]
        }
      ],
      "source": [
        "tf.saved_model.save(model, 'model',\n",
        "                    signatures={'serving_default': model.tf_model})"
      ]
    },
    {
      "cell_type": "code",
      "execution_count": null,
      "metadata": {
        "id": "jMViDS0hzO51"
      },
      "outputs": [],
      "source": [
        "reloaded = tf.saved_model.load('model')\n",
        "#result = reloaded.tf_model(three_input_text)"
      ]
    },
    {
      "cell_type": "code",
      "execution_count": null,
      "metadata": {
        "colab": {
          "base_uri": "https://localhost:8080/"
        },
        "id": "VB6QNgwRmhQr",
        "outputId": "4af82506-d0f9-4271-faa8-841ca0e895ab"
      },
      "outputs": [
        {
          "name": "stdout",
          "output_type": "stream",
          "text": [
            "z952\n",
            "x44\n",
            "c07\n",
            "\n",
            "CPU times: user 929 ms, sys: 30.2 ms, total: 959 ms\n",
            "Wall time: 590 ms\n"
          ]
        }
      ],
      "source": [
        "%%time\n",
        "result = reloaded.tf_model(three_input_text)\n",
        "for tr in result['text']:\n",
        "  print(tr.numpy().decode())\n",
        "\n",
        "print()"
      ]
    },
    {
      "cell_type": "code",
      "execution_count": null,
      "metadata": {
        "colab": {
          "base_uri": "https://localhost:8080/"
        },
        "id": "tzj_9vtimhTt",
        "outputId": "ca3c4051-734d-4662-e064-4453649eb010"
      },
      "outputs": [
        {
          "name": "stdout",
          "output_type": "stream",
          "text": [
            "y19\n",
            "a183\n",
            "z904\n",
            "\n"
          ]
        }
      ],
      "source": [
        "# Un autre test\n",
        "\n",
        "three_input_text = tf.constant([\n",
        "    # Y19.\n",
        "    'Toxique',\n",
        "    # A183\n",
        "    'Péritonite tuberculeuse',\n",
        "    # 489F'\n",
        "    'Névropathie',\n",
        "])\n",
        "\n",
        "result = reloaded.tf_model(three_input_text)\n",
        "\n",
        "for tr in result['text']:\n",
        "  print(tr.numpy().decode())\n",
        "\n",
        "print()"
      ]
    }
  ],
  "metadata": {
    "accelerator": "GPU",
    "colab": {
      "collapsed_sections": [
        "847GP8BjW6Ec",
        "Y6UbcRqtW9wi",
        "iOHcd0rdYNGf",
        "dM-VlZi8XD4T",
        "tW1HKWFsW9y-",
        "p1OsK4jVeNzl",
        "iIVEvRUrW7tz",
        "UvEgdmxpZ_r2",
        "X5T8ptq-vBdz",
        "PwzjgW4qm5pL",
        "ix3bxM56rhtv",
        "1az_L2_qTteF",
        "55GL5uKQT6pJ",
        "GSUdeDjXGyE-",
        "3SXT-lZJMPdf",
        "ud44BvZWElJP",
        "KzBCq_7epCWd",
        "Vu_JgJgm6Hzg",
        "plOx4hJpHHJw",
        "1M9FaHf6G5Hn",
        "ig-U_14tDXF5",
        "KHGF1W7mGV4o",
        "ihwYOlzIpEoe",
        "WchGbtrSwDaq",
        "kTExj2Q6Vkjc",
        "N15AD6-0FLPm"
      ],
      "name": "projet.ipynb",
      "provenance": []
    },
    "kernelspec": {
      "display_name": "Python 3",
      "name": "python3"
    },
    "language_info": {
      "name": "python"
    }
  },
  "nbformat": 4,
  "nbformat_minor": 0
}
